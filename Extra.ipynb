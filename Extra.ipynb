{
 "cells": [
  {
   "cell_type": "markdown",
   "id": "aa6ed84d",
   "metadata": {},
   "source": [
    "# Métrics d'évaluation en classification"
   ]
  },
  {
   "cell_type": "markdown",
   "id": "5d9bd300",
   "metadata": {},
   "source": [
    "## 📘 Section 1 — Fondations communes des métriques de classification"
   ]
  },
  {
   "cell_type": "markdown",
   "id": "a51cac44",
   "metadata": {},
   "source": [
    "### 🔹 1.1 — Types de tâches de classification"
   ]
  },
  {
   "cell_type": "markdown",
   "id": "302f11f8",
   "metadata": {},
   "source": [
    "**`Classification binaire`** \n",
    "\n",
    "👉 Deux classes possibles : exemple classique = spam vs non-spam. <br>\n",
    "**Sortie** : 0 ou 1 (ou négatif/positif)\n",
    "\n",
    "**`Classification multiclasse`**\n",
    "\n",
    "👉 Plus de deux classes, mais une seule classe prédite à la fois. <br>\n",
    "**Exemple** : reconnaissance de chiffre manuscrit (0–9)\n",
    "\n",
    "**`Classification multilabel`**\n",
    "\n",
    "👉 Plusieurs classes peuvent être vraies simultanément. <br>\n",
    "**Exemple** : une image peut contenir un chien, un chat et une voiture (3 étiquettes actives à la fois)"
   ]
  },
  {
   "cell_type": "markdown",
   "id": "8e769d43",
   "metadata": {},
   "source": [
    "### 🔹 1.2 — La matrice de confusion (pour la classification binaire)"
   ]
  },
  {
   "cell_type": "markdown",
   "id": "1c8c0aef",
   "metadata": {},
   "source": [
    "Elle est le point central de toutes les métriques. Elle résume les prédictions du modèle par rapport aux vraies valeurs.\n",
    "\n",
    "|                          | Réalité : Positif (1) | Réalité : Négatif (0) |\n",
    "| ------------------------ | --------------------- | --------------------- |\n",
    "| **Prédit : Positif (1)** | Vrai Positif (VP)     | Faux Positif (FP)     |\n",
    "| **Prédit : Négatif (0)** | Faux Négatif (FN)     | Vrai Négatif (VN)     |\n",
    "\n",
    "<br>\n",
    "\n",
    "✅ <u>**Définitions clés :**</u>\n",
    "\n",
    "* **VP (True Positive)** : le modèle prédit 1 et c’est bien 1\n",
    "* **VN (True Negative)** : le modèle prédit 0 et c’est bien 0\n",
    "* **FP (False Positive)** : le modèle prédit 1 mais c’est en réalité 0 → faux alarme\n",
    "* **FN (False Negative)** : le modèle prédit 0 mais c’est en réalité 1 → faux rejet"
   ]
  },
  {
   "cell_type": "markdown",
   "id": "e28e6d86",
   "metadata": {},
   "source": [
    "### 🔹 1.3 — Pourquoi c’est important ?"
   ]
  },
  {
   "cell_type": "markdown",
   "id": "d237e6f0",
   "metadata": {},
   "source": [
    "Les métriques qu’on verra ensuite sont toutes ***calculées à partir de VP, VN, FP, FN.*** <br>\n",
    "La **signification métier** (par exemple : maladie détectée vs non) donne une grande importance à bien comprendre :\n",
    "\n",
    "* le **coût d’une erreur FP** (faux positif) vs\n",
    "* le **coût d’une erreur FN** (faux négatif)"
   ]
  },
  {
   "cell_type": "markdown",
   "id": "07bd92f5",
   "metadata": {},
   "source": [
    "### 📌 Exercice rapide"
   ]
  },
  {
   "cell_type": "markdown",
   "id": "9841bd03",
   "metadata": {},
   "source": [
    "Soit la vérité terrain : `[1, 0, 1, 1, 0, 0, 1, 0]`.<br>\n",
    "Et les prédictions du modèle : `[1, 0, 0, 1, 1, 0, 1, 0]`\n",
    "\n",
    "1. Calcule la matrice de confusion (VP, VN, FP, FN)\n",
    "2. Que représente chaque valeur dans ce contexte ?"
   ]
  },
  {
   "cell_type": "markdown",
   "id": "4efe4c6a",
   "metadata": {},
   "source": [
    "|                          | Réalité : Positif (1) | Réalité : Négatif (0) |\n",
    "| ------------------------ | --------------------- | --------------------- |\n",
    "| **Prédit : Positif (1)** | **3 (VP)**            | **1 (FP)**            |\n",
    "| **Prédit : Négatif (0)** | **1 (FN)**            | **3 (VN)**            |\n",
    "\n",
    "\n",
    "\n",
    "*Imaginons que ce modèle prédit si une personne est malade (1) ou saine (0).*\n",
    "\n",
    "| Abréviation | Signification | Interprétation dans notre exemple                                                                 |\n",
    "| ----------- | ------------- | ------------------------------------------------------------------------------------------------- |\n",
    "| **VP**      | Vrai Positif  | La personne est malade, et le modèle l’a bien détectée (bon diagnostic)                           |\n",
    "| **VN**      | Vrai Négatif  | La personne est saine, et le modèle l’a bien classée (aucune alarme inutile)                      |\n",
    "| **FP**      | Faux Positif  | La personne est saine, mais le modèle l’a classée comme malade → **fausse alerte**                |\n",
    "| **FN**      | Faux Négatif  | La personne est malade, mais le modèle l’a classée comme saine → **erreur grave** (non détection) |\n"
   ]
  },
  {
   "cell_type": "markdown",
   "id": "8c72bf8b",
   "metadata": {},
   "source": [
    "**🧠 Résumé métier (avec le contexte santé)**\n",
    "\n",
    "* **FP** : peut entraîner un stress inutile, examens complémentaires inutiles, etc.\n",
    "* **FN** : plus dangereux → la maladie n’est pas détectée, donc non traitée à temps."
   ]
  },
  {
   "cell_type": "markdown",
   "id": "5d362c58",
   "metadata": {},
   "source": [
    "## 📘 Section 2 — Métriques fondamentales pour la classification binaire"
   ]
  },
  {
   "cell_type": "markdown",
   "id": "f289eb86",
   "metadata": {},
   "source": [
    "À partir de la **matrice de confusion**, on définit les **métriques de base**. Ce sont elles que tu verras partout dans les publications, les rapports de projets ML, les modèles médicaux, etc.\n",
    "\n",
    "Reprenons la notation :\n",
    "* **VP** = Vrai Positif\n",
    "* **VN** = Vrai Négatif\n",
    "* **FP** = Faux Positif\n",
    "* **FN** = Faux Négatif"
   ]
  },
  {
   "cell_type": "markdown",
   "id": "690e4e45",
   "metadata": {},
   "source": [
    "### 🔹 2.1 — Accuracy (Exactitude)"
   ]
  },
  {
   "cell_type": "markdown",
   "id": "cc078b56",
   "metadata": {},
   "source": [
    "**Formule** : \n",
    "$$Accuracy = \\frac{VP + VN}{VP + VN + FP + FN}$$\n",
    "\n",
    "**Interprétation** : proportion de prédictions correctes sur l’ensemble des cas.\n",
    "\n",
    "**Avantage** : intuitive et simple.\n",
    "\n",
    "**Limite** : trompeuse si les classes sont déséquilibrées."
   ]
  },
  {
   "cell_type": "markdown",
   "id": "742c91bf",
   "metadata": {},
   "source": [
    "### 🔹 2.2 — Recall (Sensibilité, Rappel)"
   ]
  },
  {
   "cell_type": "markdown",
   "id": "ec60ac42",
   "metadata": {},
   "source": [
    "**Formule** : \n",
    "$$Recall=\\frac{VP}{VP+FN}$$\n",
    "\n",
    "\n",
    "**Interprétation** : parmi les positifs existants, combien ont été correctement détectés.\n",
    "\n",
    "**Utilité** : critique dans les cas où il ne faut surtout pas rater un positif (ex : cancer, fraude, alerte)."
   ]
  },
  {
   "cell_type": "markdown",
   "id": "10762180",
   "metadata": {},
   "source": [
    "### 🔹 2.3 — Precision (Précision)"
   ]
  },
  {
   "cell_type": "markdown",
   "id": "f228d3ca",
   "metadata": {},
   "source": [
    "**Formule** :\n",
    " \n",
    "$$Precision=\\frac{VP}{VP+FP}$$\n",
    "\n",
    "\n",
    "**Interprétation** : parmi les cas détectés comme positifs par le modèle, combien le sont réellement.\n",
    "\n",
    "**Utilité** : importante quand un faux positif est coûteux (ex : lancer une alerte ou bloquer un compte à tort)."
   ]
  },
  {
   "cell_type": "markdown",
   "id": "cb39299b",
   "metadata": {},
   "source": [
    "### 🔹 2.4 — F1-score (F-mesure)"
   ]
  },
  {
   "cell_type": "markdown",
   "id": "55053a8a",
   "metadata": {},
   "source": [
    "**Formule** : \n",
    "\n",
    "$$F1-score=2*\\frac{Precision * Recall}{Precision + Recall}$$\n",
    "\n",
    "**Interprétation** : moyenne harmonique entre la précision et le rappel.\n",
    "\n",
    "**Utilité** : équilibre entre les deux, surtout quand le dataset est déséquilibré."
   ]
  },
  {
   "cell_type": "markdown",
   "id": "d2c9eafe",
   "metadata": {},
   "source": [
    "### 🔹 2.5 — Specificity (Spécificité)"
   ]
  },
  {
   "cell_type": "markdown",
   "id": "dc4f0012",
   "metadata": {},
   "source": [
    "**Formule** : \n",
    "$$Specificity=\\frac{VN}{VN + FP}$$\n",
    "\n",
    "**Interprétation** : parmi les négatifs, combien ont été correctement détectés comme tels.\n",
    "\n",
    "**Utilité** : complémentaire du recall, surtout utile en médecine et détection de risques."
   ]
  },
  {
   "cell_type": "markdown",
   "id": "8a1f4dc6",
   "metadata": {},
   "source": [
    "### 🔁 Exercice d’application"
   ]
  },
  {
   "cell_type": "markdown",
   "id": "4b781d1a",
   "metadata": {},
   "source": [
    "#### Exemple 1 : (avec notre matrice)"
   ]
  },
  {
   "cell_type": "markdown",
   "id": "659c55ed",
   "metadata": {},
   "source": [
    "On avait trouvé :\n",
    "* VP = 3\n",
    "* VN = 3\n",
    "* FP = 1\n",
    "* FN = 1\n",
    "\n",
    "**➤ Calcule manuellement ou avec Python les métriques suivantes :**\n",
    "* Accuracy\n",
    "* Recall\n",
    "* Precision\n",
    "* F1-score\n",
    "* Specificity"
   ]
  },
  {
   "cell_type": "markdown",
   "id": "d19ad51b",
   "metadata": {},
   "source": [
    "| Métrique     | Valeur | Interprétation                                                                 |\n",
    "|--------------|--------|---------------------------------------------------------------------------------|\n",
    "| Accuracy     | 0.75   | 75 % des prédictions sont correctes sur l'ensemble des données                 |\n",
    "| Recall       | 0.75   | 75 % des cas réellement positifs ont été détectés (sensibilité)                |\n",
    "| Precision    | 0.75   | 75 % des cas prédits comme positifs sont réellement positifs                   |\n",
    "| F1-score     | 0.75   | Équilibre harmonique entre précision et rappel (utile quand les classes sont déséquilibrées) |\n",
    "| Specificity  | 0.75   | 75 % des cas réellement négatifs ont été correctement identifiés               |\n",
    "\n",
    "🧠 **Observation** : Toutes les métriques sont égales ici car les erreurs sont symétriques (1 FP, 1 FN). Ce sera rarement le cas en pratique !"
   ]
  },
  {
   "cell_type": "markdown",
   "id": "0d7e4891",
   "metadata": {},
   "source": [
    "#### Exemple 2"
   ]
  },
  {
   "cell_type": "markdown",
   "id": "94f6fa6e",
   "metadata": {},
   "source": [
    "y_true : `[1, 0, 0, 0, 0, 0, 0, 0, 0, 0]` <br>\n",
    "y_pred : `[0, 0, 0, 0, 0, 0, 0, 0, 0, 0]`\n",
    "\n",
    "\n",
    "\n",
    "|                          | Réalité : Positif (1) | Réalité : Négatif (0) |\n",
    "| ------------------------ | --------------------- | --------------------- |\n",
    "| **Prédit : Positif (1)** | 0 (VP)                | 0 (FP)                |\n",
    "| **Prédit : Négatif (0)** | 1 (FN)                | 9 (VN)                |\n",
    "\n",
    "\n",
    "<br>\n",
    "\n",
    "| Métrique    | Valeur                        | Interprétation                                   |\n",
    "| ----------- | ----------------------------- | ------------------------------------------------ |\n",
    "| Accuracy    | $\\frac{0 + 9}{10} = 0.9$      | Le modèle a 90 % de bonnes prédictions… **mais** |\n",
    "| Recall      | $\\frac{0}{0 + 1} = 0$         | 0 % des positifs sont détectés → **grave !**     |\n",
    "| Precision   | **Indéfini** (division par 0) | Aucune prédiction positive n’a été faite         |\n",
    "| F1-score    | **0** (par convention)        | Pas de rappel, donc score nul                    |\n",
    "| Specificity | $\\frac{9}{9 + 0} = 1$         | 100 % des négatifs bien détectés                 |\n"
   ]
  },
  {
   "cell_type": "code",
   "execution_count": 1,
   "id": "011bf0a2",
   "metadata": {},
   "outputs": [
    {
     "name": "stdout",
     "output_type": "stream",
     "text": [
      "Matrice de confusion :\n",
      "[[9 0]\n",
      " [1 0]]\n",
      "Accuracy : 0.9\n",
      "Recall (sensibilité) : 0.0\n",
      "Precision : 0.0\n",
      "F1-score : 0.0\n",
      "\n",
      "Rapport détaillé :\n",
      "              precision    recall  f1-score   support\n",
      "\n",
      "           0       0.90      1.00      0.95         9\n",
      "           1       0.00      0.00      0.00         1\n",
      "\n",
      "    accuracy                           0.90        10\n",
      "   macro avg       0.45      0.50      0.47        10\n",
      "weighted avg       0.81      0.90      0.85        10\n",
      "\n"
     ]
    }
   ],
   "source": [
    "from sklearn.metrics import confusion_matrix, accuracy_score, precision_score, recall_score, f1_score, classification_report\n",
    "# Vraies étiquettes (très déséquilibrées)\n",
    "y_true = [1, 0, 0, 0, 0, 0, 0, 0, 0, 0]\n",
    "\n",
    "# Prédictions du modèle (il ne prédit que des 0)\n",
    "y_pred = [0, 0, 0, 0, 0, 0, 0, 0, 0, 0]\n",
    "\n",
    "# Matrice de confusion\n",
    "cm = confusion_matrix(y_true, y_pred)\n",
    "print(\"Matrice de confusion :\")\n",
    "print(cm)\n",
    "\n",
    "# Accuracy\n",
    "acc = accuracy_score(y_true, y_pred)\n",
    "print(\"Accuracy :\", acc)\n",
    "\n",
    "# Recall\n",
    "rec = recall_score(y_true, y_pred, zero_division=0)\n",
    "print(\"Recall (sensibilité) :\", rec)\n",
    "\n",
    "# Precision\n",
    "prec = precision_score(y_true, y_pred, zero_division=0)\n",
    "print(\"Precision :\", prec)\n",
    "\n",
    "# F1-score\n",
    "f1 = f1_score(y_true, y_pred, zero_division=0)\n",
    "print(\"F1-score :\", f1)\n",
    "\n",
    "# Rapport complet\n",
    "print(\"\\nRapport détaillé :\")\n",
    "print(classification_report(y_true, y_pred, zero_division=0))\n"
   ]
  },
  {
   "cell_type": "markdown",
   "id": "5010df86",
   "metadata": {},
   "source": [
    "## 📘 Section 3 — Les métriques avancées pour la classification binaire"
   ]
  },
  {
   "cell_type": "markdown",
   "id": "9bca1830",
   "metadata": {},
   "source": [
    "### 🔹 3.1 — Balanced Accuracy"
   ]
  },
  {
   "cell_type": "markdown",
   "id": "9db6a682",
   "metadata": {},
   "source": [
    "**Formule** :\n",
    "$$Balanced Accuracy=\\frac{Recall+Specificity}{2}=\\frac{1}{2}(\\frac{VP}{VP+FN}+\\frac{VN}{VN+FP})$$\n",
    "\n",
    "✅ **Avantage** : elle compense les déséquilibres entre classes. <br>\n",
    "❗️ Contrairement à accuracy, elle donne autant d’importance à chaque classe.\n",
    "\n",
    "**Exemple** :\n",
    "\n",
    "Dans notre cas précédent (9 négatifs, 1 positif, modèle qui prédit toujours 0) :\n",
    "* Recall = 0\n",
    "* Specificity = 1\n",
    "\n",
    "$Balanced Accuracy=0+\\frac{1}{2}=0.5$\n",
    "<br>\n",
    "\n",
    "🔎 L’accuracy était de 0.90 → **trompeuse** <br>\n",
    "✅ Balanced Accuracy = 0.5 → **plus honnête**"
   ]
  },
  {
   "cell_type": "markdown",
   "id": "5a84aeea",
   "metadata": {},
   "source": [
    "### 🔹 3.2 — Matthews Correlation Coefficient (MCC)"
   ]
  },
  {
   "cell_type": "markdown",
   "id": "ef979038",
   "metadata": {},
   "source": [
    "**Formule** :\n",
    "$$MCC=\\frac{(VP*VN)−(FP*FN)}{\\sqrt{(VP+FP)(VP+FN)(VN+FP)(VN+FN)}}$$\n",
    "\n",
    "**Avantage** : une des meilleures métriques globales, car elle :\n",
    "* Combine tous les éléments de la matrice de confusion\n",
    "* Donne un score entre -1 et 1 :\n",
    "    * +1 = parfaite prédiction\n",
    "\n",
    "    * 0 = aléatoire\n",
    "\n",
    "    * -1 = complètement erronée\n",
    "\n",
    "**Exemple** : <br>\n",
    "Dans notre exemple :\n",
    "\n",
    "    VP = 0, VN = 9, FP = 0, FN = 1\n",
    "\n",
    "$$MCC=\\frac{(0*9)−(0*1)}{\\sqrt{(0+0)(0+1)(9+0)(9+1)}}=\\frac{0}{0}=indéfini (convention : 0)$$\n",
    "\n",
    "📌 MCC vaut **0**, car **aucun positif** n’a été prédit → ce qui reflète bien une absence de compétence."
   ]
  },
  {
   "cell_type": "markdown",
   "id": "04d203ef",
   "metadata": {},
   "source": [
    "### 🔹 3.3 — AUC-ROC (Area Under the ROC Curve)"
   ]
  },
  {
   "cell_type": "markdown",
   "id": "dc1dbf6e",
   "metadata": {},
   "source": [
    "Le **ROC (Receiver Operating Characteristic)** trace :\n",
    "* Axe X : **Taux de faux positifs (FPR) = $\\frac{FP}{FP+VN}$**\n",
    "* Axe Y : **Taux de vrais positifs (TPR = Recall) = $\\frac{VP}{VP+FN}$**\n",
    "\n",
    "**AUC** = surface sous cette courbe\n",
    "$$AUC∈[0,1]$$\n",
    "\n",
    "* AUC = 0.5 : prédiction aléatoire\n",
    "* AUC ≈ 1 : modèle parfait\n",
    "* AUC < 0.5 : pire qu’aléatoire\n",
    "\n",
    "🔍 **Utilité** : Mesure la capacité à distinguer les classes à tous les seuils de décision.\n",
    "\n",
    "⚠️ Nécessite des **scores de probabilité** (pas seulement 0 ou 1) pour être pertinent."
   ]
  },
  {
   "cell_type": "markdown",
   "id": "ff5fe703",
   "metadata": {},
   "source": [
    "### 🔹 3.4 — Courbe Precision-Recall et AUC"
   ]
  },
  {
   "cell_type": "markdown",
   "id": "84619dec",
   "metadata": {},
   "source": [
    "**`➤ Tracé`**\n",
    "\n",
    "La courbe **Precision-Recall (PR Curve)** est un outil graphique utilisé pour évaluer la performance des modèles de classification, en particulier lorsque les données sont déséquilibrées\n",
    "\n",
    "📌 Définition\n",
    "* Axe X → **Recall** (Sensibilité) : proportion de vrais positifs détectés parmi tous les positifs réels.\n",
    "\n",
    "* Axe Y → **Precision** : proportion de prédictions positives qui sont réellement correctes.\n",
    "\n",
    "📌 Pourquoi utiliser la courbe Precision-Recall ? \n",
    "* ✔ Plus adaptée aux datasets déséquilibrés (ex. détection de fraudes, maladies rares). \n",
    "* ✔ Montre le compromis entre précision et rappel : un modèle peut avoir une haute précision mais un faible rappel, ou inversement. \n",
    "* ✔ Aide à choisir le seuil optimal pour classifier les données.\n",
    "\n",
    "📌 **Différence avec la courbe ROC** :<br> Contrairement à la courbe ROC, qui prend en compte les vrais et faux négatifs, la courbe Precision-Recall se concentre uniquement sur la classe positive, ce qui la rend plus pertinente dans certains cas\n",
    "\n",
    "📌 Plus utile que la courbe ROC quand :\n",
    "* Les classes sont très déséquilibrées\n",
    "* On veut récompenser la détection précise des positifs\n",
    "\n",
    "***`➤ PR AUC`***\n",
    "\n",
    "Surface sous la courbe precision-recall (⚠️ peut être basse même avec bon modèle, en cas de classe rare)\n",
    "\n",
    ">📌 Plus sévère que ROC AUC dans les cas extrêmes de déséquilibre."
   ]
  },
  {
   "cell_type": "markdown",
   "id": "db191c91",
   "metadata": {},
   "source": [
    "### 🔹 3.5 — G-Mean (Geometric Mean)"
   ]
  },
  {
   "cell_type": "markdown",
   "id": "b4cda325",
   "metadata": {},
   "source": [
    "$$G-Mean=\\sqrt{Recall*Specificity}​=\\sqrt{(\\frac{VP}{FN+VP}​)*(\\frac{VN}{FP+VN}​)}$$\n",
    "​\n",
    "\n",
    ">🧠 **Avantage** : Donne une importance égale à chaque classe, favorise des modèles bien équilibrés dans leur capacité à détecter positifs et négatifs."
   ]
  },
  {
   "cell_type": "markdown",
   "id": "92a3ed8e",
   "metadata": {},
   "source": [
    "### 📋 Résumé"
   ]
  },
  {
   "cell_type": "markdown",
   "id": "abae2fcf",
   "metadata": {},
   "source": [
    "| Métrique              | Description                                 | Quand l’utiliser                                      |\n",
    "|-----------------------|---------------------------------------------|--------------------------------------------------------|\n",
    "| ROC AUC               | Capacité globale de classement              | Toujours utile, mais pas fiable si classes très rares  |\n",
    "| Precision-Recall AUC  | Précision vs rappel                         | Classe positive rare, objectif = détection efficace    |\n",
    "| MCC                   | Corrélation réelle entre y_true et y_pred   | Solide dans tous les cas, même très déséquilibrés      |\n",
    "| Balanced Accuracy     | Moyenne de sensibilité/spécificité          | Meilleure que l'accuracy en cas de déséquilibre        |\n",
    "| G-Mean                | Moyenne géométrique de recall et spécificité| Pour modèles équilibrés (pas trop bon que sur une seule classe) |\n"
   ]
  },
  {
   "cell_type": "markdown",
   "id": "3ca35d06",
   "metadata": {},
   "source": [
    "### Application"
   ]
  },
  {
   "cell_type": "markdown",
   "id": "037a82fc",
   "metadata": {},
   "source": [
    "#### Exemple de code python"
   ]
  },
  {
   "cell_type": "code",
   "execution_count": 2,
   "id": "ae6f131c",
   "metadata": {},
   "outputs": [
    {
     "data": {
      "image/png": "[encoded data removed]",
      "text/plain": [
       "<Figure size 1200x500 with 2 Axes>"
      ]
     },
     "metadata": {},
     "output_type": "display_data"
    },
    {
     "name": "stdout",
     "output_type": "stream",
     "text": [
      "Accuracy            : 0.9733\n",
      "Precision           : 1.0000\n",
      "Recall              : 0.7419\n",
      "F1-score            : 0.8519\n",
      "Balanced Accuracy   : 0.8710\n",
      "Specificity         : 1.0000\n",
      "G-Mean              : 0.8614\n",
      "MCC                 : 0.8488\n",
      "ROC AUC             : 0.9609\n",
      "PR AUC              : 0.9176\n"
     ]
    }
   ],
   "source": [
    "from sklearn.datasets import make_classification\n",
    "from sklearn.model_selection import train_test_split\n",
    "from sklearn.linear_model import LogisticRegression\n",
    "from sklearn.metrics import (\n",
    "    confusion_matrix, accuracy_score, precision_score, recall_score, f1_score,\n",
    "    matthews_corrcoef, roc_auc_score, average_precision_score, \n",
    "    balanced_accuracy_score, roc_curve, precision_recall_curve\n",
    ")\n",
    "import matplotlib.pyplot as plt\n",
    "import numpy as np\n",
    "\n",
    "# 1. Générer un dataset déséquilibré\n",
    "X, y = make_classification(\n",
    "    n_samples=1000, n_features=20, n_informative=5, n_redundant=2,\n",
    "    n_clusters_per_class=1, weights=[0.9, 0.1], flip_y=0.01, random_state=42\n",
    ")\n",
    "\n",
    "# 2. Split train/test\n",
    "X_train, X_test, y_train, y_test = train_test_split(\n",
    "    X, y, test_size=0.3, stratify=y, random_state=42\n",
    ")\n",
    "\n",
    "# 3. Entraîner un modèle de régression logistique\n",
    "model = LogisticRegression(max_iter=1000, random_state=42)\n",
    "model.fit(X_train, y_train)\n",
    "\n",
    "# 4. Prédictions\n",
    "y_scores = model.predict_proba(X_test)[:, 1]  # Probabilités\n",
    "y_pred = (y_scores >= 0.5).astype(int)        # Seuil 0.5\n",
    "\n",
    "# 5. Matrice de confusion\n",
    "cm = confusion_matrix(y_test, y_pred)\n",
    "\n",
    "# 6. Métriques classiques et avancées\n",
    "acc = accuracy_score(y_test, y_pred)\n",
    "prec = precision_score(y_test, y_pred, zero_division=0)\n",
    "rec = recall_score(y_test, y_pred, zero_division=0)\n",
    "f1 = f1_score(y_test, y_pred, zero_division=0)\n",
    "mcc = matthews_corrcoef(y_test, y_pred)\n",
    "balanced_acc = balanced_accuracy_score(y_test, y_pred)\n",
    "specificity = cm[0, 0] / (cm[0, 0] + cm[0, 1])\n",
    "g_mean = np.sqrt(rec * specificity)\n",
    "roc_auc = roc_auc_score(y_test, y_scores)\n",
    "pr_auc = average_precision_score(y_test, y_scores)\n",
    "\n",
    "# 7. Tracer les courbes ROC et PR\n",
    "fpr, tpr, _ = roc_curve(y_test, y_scores)\n",
    "precision, recall, _ = precision_recall_curve(y_test, y_scores)\n",
    "\n",
    "plt.figure(figsize=(12, 5))\n",
    "\n",
    "# ROC\n",
    "plt.subplot(1, 2, 1)\n",
    "plt.plot(fpr, tpr, marker='o', label=f\"ROC AUC = {roc_auc:.2f}\")\n",
    "plt.plot([0, 1], [0, 1], linestyle='--', color='gray')\n",
    "plt.xlabel(\"FPR\")\n",
    "plt.ylabel(\"TPR (Recall)\")\n",
    "plt.title(\"Courbe ROC\")\n",
    "plt.legend()\n",
    "\n",
    "# Precision-Recall\n",
    "plt.subplot(1, 2, 2)\n",
    "plt.plot(recall, precision, marker='o', label=f\"PR AUC = {pr_auc:.2f}\")\n",
    "plt.xlabel(\"Recall\")\n",
    "plt.ylabel(\"Precision\")\n",
    "plt.title(\"Courbe Precision-Recall\")\n",
    "plt.legend()\n",
    "\n",
    "plt.tight_layout()\n",
    "plt.show()\n",
    "\n",
    "# 8. Résultats dans un dictionnaire\n",
    "results = {\n",
    "    \"Accuracy\": acc,\n",
    "    \"Precision\": prec,\n",
    "    \"Recall\": rec,\n",
    "    \"F1-score\": f1,\n",
    "    \"Balanced Accuracy\": balanced_acc,\n",
    "    \"Specificity\": specificity,\n",
    "    \"G-Mean\": g_mean,\n",
    "    \"MCC\": mcc,\n",
    "    \"ROC AUC\": roc_auc,\n",
    "    \"PR AUC\": pr_auc\n",
    "}\n",
    "\n",
    "# Affichage\n",
    "for metric, value in results.items():\n",
    "    print(f\"{metric:20s}: {value:.4f}\")\n"
   ]
  },
  {
   "cell_type": "markdown",
   "id": "0e9772f9",
   "metadata": {},
   "source": [
    "#### Interprètation"
   ]
  },
  {
   "cell_type": "markdown",
   "id": "43769aa2",
   "metadata": {},
   "source": [
    "| Métrique          | Valeur | Interprétation                                                              |\n",
    "| ----------------- | ------ | --------------------------------------------------------------------------- |\n",
    "| Accuracy          | 0.973  | Le modèle prédit globalement bien, mais cela peut être trompeur ici         |\n",
    "| Precision         | 1.000  | Tous les positifs prédits sont corrects (aucun faux positif)                |\n",
    "| Recall            | 0.742  | Le modèle détecte \\~74% des vrais positifs                                  |\n",
    "| F1-score          | 0.852  | Bon compromis entre précision et rappel                                     |\n",
    "| Balanced Accuracy | 0.871  | Moyenne entre sensibilité (0.742) et spécificité (1.0)                      |\n",
    "| Specificity       | 1.000  | Tous les négatifs sont bien classés                                         |\n",
    "| G-Mean            | 0.861  | Le modèle est globalement équilibré                                         |\n",
    "| MCC               | 0.849  | Bonne corrélation entre vrais et prédits (même avec classes déséquilibrées) |\n",
    "| ROC AUC           | 0.961  | Excellente capacité à distinguer les classes                                |\n",
    "| PR AUC            | 0.918  | Très bonne performance sur la classe minoritaire (positifs)                 |\n"
   ]
  },
  {
   "cell_type": "markdown",
   "id": "0f5a836e",
   "metadata": {},
   "source": [
    "## 📘 Section 4 : Métriques pour la classification multi-classes"
   ]
  },
  {
   "cell_type": "markdown",
   "id": "159280cd",
   "metadata": {},
   "source": [
    "Lorsque le problème implique **plus de deux classes** (ex : reconnaître des types de fleurs, des chiffres, des maladies, etc.), les métriques doivent être **étendues ou généralisées**."
   ]
  },
  {
   "cell_type": "markdown",
   "id": "df9cf7c4",
   "metadata": {},
   "source": [
    "***`Kodjo Jean DEGBEVI`***\n"
   ]
  },
  {
   "cell_type": "markdown",
   "id": "02ec2129",
   "metadata": {},
   "source": [
    "# Métrics d'évaluation en regression"
   ]
  }
 ],
 "metadata": {
  "kernelspec": {
   "display_name": "FW_ML",
   "language": "python",
   "name": "python3"
  },
  "language_info": {
   "codemirror_mode": {
    "name": "ipython",
    "version": 3
   },
   "file_extension": ".py",
   "mimetype": "text/x-python",
   "name": "python",
   "nbconvert_exporter": "python",
   "pygments_lexer": "ipython3",
   "version": "3.10.17"
  }
 },
 "nbformat": 4,
 "nbformat_minor": 5
}

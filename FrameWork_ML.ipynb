{
 "cells": [
  {
   "cell_type": "markdown",
   "id": "c9e7081b",
   "metadata": {},
   "source": [
    "# <u>MODULE 1</u> : PANORAMA DES FRAMEWORKS"
   ]
  },
  {
   "cell_type": "markdown",
   "id": "1b002232",
   "metadata": {},
   "source": [
    "## 1. Introduction"
   ]
  },
  {
   "cell_type": "markdown",
   "id": "22267e5d",
   "metadata": {},
   "source": [
    "Un **framework** est un ensemble cohérent de composants logiciels (fonctions, classes,\n",
    "interfaces) facilitant la conception, l’entraînement, l’évaluation et le déploiement de mo-\n",
    "dèles d’apprentissage. Il permet de simplifier la mise en œuvre d’algorithmes complexes\n",
    "tout en assurant reproductibilité et maintenance."
   ]
  },
  {
   "cell_type": "markdown",
   "id": "57e79353",
   "metadata": {},
   "source": [
    "<div style=\"\n",
    "    border: 2px solid #007BFF; /* Contour bleu */\n",
    "    padding: 15px;\n",
    "    border-radius: 5px;\n",
    "    background-color:rgb(38, 40, 43); /* Fond gris clair */\n",
    "\">\n",
    "    <h2 style=\"color:rgb(152, 165, 179); text-align: center; border:2px solidrgb(104, 108, 111)\">Objectifs du module</h2>\n",
    "<p>— Comprendre le rôle des frameworks en Machine Learning.</p>\n",
    "<p>— Identifier les bibliothèques classiques et celles de Deep Learning.</p>\n",
    "<p>— Comparer les frameworks selon performance, communauté, documentation,\n",
    "et facilité d’usage.</p>\n",
    "<p>— Initier une démarche expérimentale comparative avec des cas pratiques.</p>\n",
    "</div>\n"
   ]
  },
  {
   "cell_type": "markdown",
   "id": "f1ca86c6",
   "metadata": {},
   "source": [
    "## 2. Définition et rôle d’un framework de Machine Learning"
   ]
  },
  {
   "cell_type": "markdown",
   "id": "2e408b8b",
   "metadata": {},
   "source": [
    "*Un **framework de Machine Learning** est une plateforme logicielle intégrée regroupant bibliothèques, interfaces et outils pour concevoir, entraîner, évaluer et déployer des modèles d’apprentissage automatique ou profond.*"
   ]
  },
  {
   "cell_type": "markdown",
   "id": "c38df0f4",
   "metadata": {},
   "source": [
    "* **`Objectifs`**\n",
    "\n",
    "    * *Accélérer le développement*\n",
    "    * *Simplifier les tâches techniques répétitives*\n",
    "    * *Garantir la reproductibilité et faciliter la maintenance* <br><br>\n",
    "* **`Rôle opérationnel`**\n",
    "\n",
    "    * *Abstraction*\n",
    "    * *Implémentations optimisées*\n",
    "    * *Interopérabilité*\n",
    "    * *Support matériel*"
   ]
  },
  {
   "cell_type": "markdown",
   "id": "c0f0d115",
   "metadata": {},
   "source": [
    "<u>**`Exemple avec Scikit-learn`**</u>\n",
    "\n",
    "```python\n",
    "from sklearn.datasets import load_iris\n",
    "from sklearn.model_selection import train_test_split\n",
    "from sklearn.ensemble import RandomForestClassifier\n",
    "from sklearn.metrics import accuracy_score\n",
    "\n",
    "iris = load_iris()\n",
    "X, y = iris.data, iris.target\n",
    "\n",
    "X_train, X_test, y_train, y_test = train_test_split(X, y, test_size=0.2, random_state=42)\n",
    "\n",
    "model = RandomForestClassifier(n_estimators=100, random_state=42)\n",
    "model.fit(X_train, y_train)\n",
    "\n",
    "y_pred = model.predict(X_test)\n",
    "\n",
    "accuracy = accuracy_score(y_test, y_pred)\n",
    "print(f\"Précision du model: {accuracy:.2f}\")\n",
    "\n",
    "```"
   ]
  },
  {
   "cell_type": "markdown",
   "id": "94b4d9af",
   "metadata": {},
   "source": [
    "## 3. Catalogue des Frameworks de Machine Learning"
   ]
  },
  {
   "cell_type": "markdown",
   "id": "6c1cd075",
   "metadata": {},
   "source": [
    "### 3.1 Bibliothèques classiques (prototypage rapide)"
   ]
  },
  {
   "cell_type": "markdown",
   "id": "8b094dcb",
   "metadata": {},
   "source": [
    "#### **`Scikit-learn`**"
   ]
  },
  {
   "cell_type": "markdown",
   "id": "94c402c1",
   "metadata": {},
   "source": [
    "*Bibliothèque Python de référence pour l’apprentissage automatique\n",
    "classique. Elle repose sur `NumPy`, `SciPy` et `Pandas`, et offre une API uniforme pour des tâches comme la **régression, la classification, le clustering, la réduction de dimension, etc.***"
   ]
  },
  {
   "cell_type": "code",
   "execution_count": 1,
   "id": "cc1340fd",
   "metadata": {},
   "outputs": [
    {
     "ename": "ValueError",
     "evalue": "numpy.dtype size changed, may indicate binary incompatibility. Expected 96 from C header, got 88 from PyObject",
     "output_type": "error",
     "traceback": [
      "\u001b[0;31m---------------------------------------------------------------------------\u001b[0m",
      "\u001b[0;31mValueError\u001b[0m                                Traceback (most recent call last)",
      "Cell \u001b[0;32mIn[1], line 1\u001b[0m\n\u001b[0;32m----> 1\u001b[0m \u001b[38;5;28;01mfrom\u001b[39;00m\u001b[38;5;250m \u001b[39m\u001b[38;5;21;01msklearn\u001b[39;00m\u001b[38;5;21;01m.\u001b[39;00m\u001b[38;5;21;01mlinear_model\u001b[39;00m\u001b[38;5;250m \u001b[39m\u001b[38;5;28;01mimport\u001b[39;00m LinearRegression\n\u001b[1;32m      3\u001b[0m \u001b[38;5;66;03m# Importation de NumPy pour manipuler des tableaux num riques\u001b[39;00m\n\u001b[1;32m      4\u001b[0m \u001b[38;5;28;01mimport\u001b[39;00m\u001b[38;5;250m \u001b[39m\u001b[38;5;21;01mnumpy\u001b[39;00m\u001b[38;5;250m \u001b[39m\u001b[38;5;28;01mas\u001b[39;00m\u001b[38;5;250m \u001b[39m\u001b[38;5;21;01mnp\u001b[39;00m\n",
      "File \u001b[0;32m/run/media/du/working/vscodeDD/coursecdp/frameworkML/frameworksformlvenv/lib/python3.10/site-packages/sklearn/__init__.py:82\u001b[0m\n\u001b[1;32m     80\u001b[0m \u001b[38;5;28;01mfrom\u001b[39;00m\u001b[38;5;250m \u001b[39m\u001b[38;5;21;01m.\u001b[39;00m\u001b[38;5;250m \u001b[39m\u001b[38;5;28;01mimport\u001b[39;00m _distributor_init  \u001b[38;5;66;03m# noqa: F401\u001b[39;00m\n\u001b[1;32m     81\u001b[0m \u001b[38;5;28;01mfrom\u001b[39;00m\u001b[38;5;250m \u001b[39m\u001b[38;5;21;01m.\u001b[39;00m\u001b[38;5;250m \u001b[39m\u001b[38;5;28;01mimport\u001b[39;00m __check_build  \u001b[38;5;66;03m# noqa: F401\u001b[39;00m\n\u001b[0;32m---> 82\u001b[0m \u001b[38;5;28;01mfrom\u001b[39;00m\u001b[38;5;250m \u001b[39m\u001b[38;5;21;01m.\u001b[39;00m\u001b[38;5;21;01mbase\u001b[39;00m\u001b[38;5;250m \u001b[39m\u001b[38;5;28;01mimport\u001b[39;00m clone\n\u001b[1;32m     83\u001b[0m \u001b[38;5;28;01mfrom\u001b[39;00m\u001b[38;5;250m \u001b[39m\u001b[38;5;21;01m.\u001b[39;00m\u001b[38;5;21;01mutils\u001b[39;00m\u001b[38;5;21;01m.\u001b[39;00m\u001b[38;5;21;01m_show_versions\u001b[39;00m\u001b[38;5;250m \u001b[39m\u001b[38;5;28;01mimport\u001b[39;00m show_versions\n\u001b[1;32m     85\u001b[0m __all__ \u001b[38;5;241m=\u001b[39m [\n\u001b[1;32m     86\u001b[0m     \u001b[38;5;124m\"\u001b[39m\u001b[38;5;124mcalibration\u001b[39m\u001b[38;5;124m\"\u001b[39m,\n\u001b[1;32m     87\u001b[0m     \u001b[38;5;124m\"\u001b[39m\u001b[38;5;124mcluster\u001b[39m\u001b[38;5;124m\"\u001b[39m,\n\u001b[0;32m   (...)\u001b[0m\n\u001b[1;32m    128\u001b[0m     \u001b[38;5;124m\"\u001b[39m\u001b[38;5;124mshow_versions\u001b[39m\u001b[38;5;124m\"\u001b[39m,\n\u001b[1;32m    129\u001b[0m ]\n",
      "File \u001b[0;32m/run/media/du/working/vscodeDD/coursecdp/frameworkML/frameworksformlvenv/lib/python3.10/site-packages/sklearn/base.py:17\u001b[0m\n\u001b[1;32m     15\u001b[0m \u001b[38;5;28;01mfrom\u001b[39;00m\u001b[38;5;250m \u001b[39m\u001b[38;5;21;01m.\u001b[39;00m\u001b[38;5;250m \u001b[39m\u001b[38;5;28;01mimport\u001b[39;00m __version__\n\u001b[1;32m     16\u001b[0m \u001b[38;5;28;01mfrom\u001b[39;00m\u001b[38;5;250m \u001b[39m\u001b[38;5;21;01m.\u001b[39;00m\u001b[38;5;21;01m_config\u001b[39;00m\u001b[38;5;250m \u001b[39m\u001b[38;5;28;01mimport\u001b[39;00m get_config\n\u001b[0;32m---> 17\u001b[0m \u001b[38;5;28;01mfrom\u001b[39;00m\u001b[38;5;250m \u001b[39m\u001b[38;5;21;01m.\u001b[39;00m\u001b[38;5;21;01mutils\u001b[39;00m\u001b[38;5;250m \u001b[39m\u001b[38;5;28;01mimport\u001b[39;00m _IS_32BIT\n\u001b[1;32m     18\u001b[0m \u001b[38;5;28;01mfrom\u001b[39;00m\u001b[38;5;250m \u001b[39m\u001b[38;5;21;01m.\u001b[39;00m\u001b[38;5;21;01mutils\u001b[39;00m\u001b[38;5;21;01m.\u001b[39;00m\u001b[38;5;21;01m_tags\u001b[39;00m\u001b[38;5;250m \u001b[39m\u001b[38;5;28;01mimport\u001b[39;00m (\n\u001b[1;32m     19\u001b[0m     _DEFAULT_TAGS,\n\u001b[1;32m     20\u001b[0m )\n\u001b[1;32m     21\u001b[0m \u001b[38;5;28;01mfrom\u001b[39;00m\u001b[38;5;250m \u001b[39m\u001b[38;5;21;01m.\u001b[39;00m\u001b[38;5;21;01mutils\u001b[39;00m\u001b[38;5;21;01m.\u001b[39;00m\u001b[38;5;21;01mvalidation\u001b[39;00m\u001b[38;5;250m \u001b[39m\u001b[38;5;28;01mimport\u001b[39;00m check_X_y\n",
      "File \u001b[0;32m/run/media/du/working/vscodeDD/coursecdp/frameworkML/frameworksformlvenv/lib/python3.10/site-packages/sklearn/utils/__init__.py:24\u001b[0m\n\u001b[1;32m     21\u001b[0m \u001b[38;5;28;01mimport\u001b[39;00m\u001b[38;5;250m \u001b[39m\u001b[38;5;21;01mnumpy\u001b[39;00m\u001b[38;5;250m \u001b[39m\u001b[38;5;28;01mas\u001b[39;00m\u001b[38;5;250m \u001b[39m\u001b[38;5;21;01mnp\u001b[39;00m\n\u001b[1;32m     22\u001b[0m \u001b[38;5;28;01mfrom\u001b[39;00m\u001b[38;5;250m \u001b[39m\u001b[38;5;21;01mscipy\u001b[39;00m\u001b[38;5;21;01m.\u001b[39;00m\u001b[38;5;21;01msparse\u001b[39;00m\u001b[38;5;250m \u001b[39m\u001b[38;5;28;01mimport\u001b[39;00m issparse\n\u001b[0;32m---> 24\u001b[0m \u001b[38;5;28;01mfrom\u001b[39;00m\u001b[38;5;250m \u001b[39m\u001b[38;5;21;01m.\u001b[39;00m\u001b[38;5;21;01mmurmurhash\u001b[39;00m\u001b[38;5;250m \u001b[39m\u001b[38;5;28;01mimport\u001b[39;00m murmurhash3_32\n\u001b[1;32m     25\u001b[0m \u001b[38;5;28;01mfrom\u001b[39;00m\u001b[38;5;250m \u001b[39m\u001b[38;5;21;01m.\u001b[39;00m\u001b[38;5;21;01mclass_weight\u001b[39;00m\u001b[38;5;250m \u001b[39m\u001b[38;5;28;01mimport\u001b[39;00m compute_class_weight, compute_sample_weight\n\u001b[1;32m     26\u001b[0m \u001b[38;5;28;01mfrom\u001b[39;00m\u001b[38;5;250m \u001b[39m\u001b[38;5;21;01m.\u001b[39;00m\u001b[38;5;250m \u001b[39m\u001b[38;5;28;01mimport\u001b[39;00m _joblib\n",
      "File \u001b[0;32msklearn/utils/murmurhash.pyx:1\u001b[0m, in \u001b[0;36minit sklearn.utils.murmurhash\u001b[0;34m()\u001b[0m\n",
      "\u001b[0;31mValueError\u001b[0m: numpy.dtype size changed, may indicate binary incompatibility. Expected 96 from C header, got 88 from PyObject"
     ]
    }
   ],
   "source": [
    "from sklearn.linear_model import LinearRegression\n",
    "\n",
    "# Importation de NumPy pour manipuler des tableaux num riques\n",
    "import numpy as np\n",
    "\n",
    "# Création de l’ensemble des données d’entrée(features)\n",
    "X = np.array([[1], [2], [3], [4], [5]]) # 5 observations, une seule variable explicative\n",
    "\n",
    "# Définition de la variable cible (target)\n",
    "y = np.array([1.5, 3.5, 5.5, 7.5, 9.5]) # Valeurs correspondantes à prédire\n",
    "\n",
    "# Instanciation du modèle de régression linéaire\n",
    "model = LinearRegression()\n",
    "\n",
    "# Entrainement du model (ajustement des coefficients)\n",
    "model.fit(X, y)\n",
    "\n",
    "# Prédiction sur une nouvelle donnée (x = 6)\n",
    "y_pred = model.predict(np.array([[6]]))\n",
    "\n",
    "# Affichage de la pr diction\n",
    "print(\"Prédiction pour x=6 :\", y_pred)"
   ]
  },
  {
   "cell_type": "markdown",
   "id": "7fae5791",
   "metadata": {},
   "source": [
    "#### **`XGBoost`**"
   ]
  },
  {
   "cell_type": "markdown",
   "id": "067f2ee6",
   "metadata": {},
   "source": [
    "*Implémentation optimisée de l’algorithme de `Gradient Boosting`, particulièrement efficace pour les **données tabulaires**. Il intègre une r**égularisation L1/L2** pour limiter le **surapprentissage** et une **gestion native des valeurs manquantes**.*"
   ]
  },
  {
   "cell_type": "code",
   "execution_count": null,
   "id": "98a88fe9",
   "metadata": {},
   "outputs": [
    {
     "name": "stdout",
     "output_type": "stream",
     "text": [
      " Précision : 0.9111111111111111\n"
     ]
    }
   ],
   "source": [
    "# Importation des modules nécessaires\n",
    "import xgboost as xgb\n",
    "from sklearn.datasets import load_iris\n",
    "from sklearn.model_selection import train_test_split\n",
    "\n",
    "# Chargement du jeu de données Iris (classification multiclasse)\n",
    "iris = load_iris()\n",
    "\n",
    "# Séparation des données en ensemble d’entra nement et de test\n",
    "X_train, X_test, y_train, y_test = train_test_split(iris.data, iris.target,\n",
    "test_size=0.3)\n",
    "\n",
    "# Instanciation du modèle de classification XGBoost\n",
    "model = xgb.XGBClassifier()\n",
    "\n",
    "# Entraînement du modèle sur les données d’entraînement\n",
    "model.fit(X_train, y_train)\n",
    "\n",
    "# Évaluation de la précision sur les données de test\n",
    "accuracy = model.score(X_test, y_test)\n",
    "print(\" Précision :\", accuracy)"
   ]
  },
  {
   "cell_type": "markdown",
   "id": "185d999d",
   "metadata": {},
   "source": [
    "#### **`LightGBM`**"
   ]
  },
  {
   "cell_type": "markdown",
   "id": "8cb42e44",
   "metadata": {},
   "source": [
    "*Version accélérée du `boosting` utilisant des histogrammes pour diviser les features. Il adopte une `croissance des arbres leaf-wise`, ce qui améliore l’**efficacité** sur de très grands jeux de données.*"
   ]
  },
  {
   "cell_type": "code",
   "execution_count": null,
   "id": "76d488c7",
   "metadata": {},
   "outputs": [
    {
     "ename": "ValueError",
     "evalue": "numpy.dtype size changed, may indicate binary incompatibility. Expected 96 from C header, got 88 from PyObject",
     "output_type": "error",
     "traceback": [
      "\u001b[0;31m---------------------------------------------------------------------------\u001b[0m",
      "\u001b[0;31mValueError\u001b[0m                                Traceback (most recent call last)",
      "Cell \u001b[0;32mIn[1], line 2\u001b[0m\n\u001b[1;32m      1\u001b[0m \u001b[38;5;66;03m# Importation des bibliothèques\u001b[39;00m\n\u001b[0;32m----> 2\u001b[0m \u001b[38;5;28;01mimport\u001b[39;00m\u001b[38;5;250m \u001b[39m\u001b[38;5;21;01mlightgbm\u001b[39;00m\u001b[38;5;250m \u001b[39m\u001b[38;5;28;01mas\u001b[39;00m\u001b[38;5;250m \u001b[39m\u001b[38;5;21;01mlgb\u001b[39;00m\n\u001b[1;32m      3\u001b[0m \u001b[38;5;28;01mfrom\u001b[39;00m\u001b[38;5;250m \u001b[39m\u001b[38;5;21;01msklearn\u001b[39;00m\u001b[38;5;21;01m.\u001b[39;00m\u001b[38;5;21;01mdatasets\u001b[39;00m\u001b[38;5;250m \u001b[39m\u001b[38;5;28;01mimport\u001b[39;00m load_boston\n\u001b[1;32m      4\u001b[0m \u001b[38;5;28;01mfrom\u001b[39;00m\u001b[38;5;250m \u001b[39m\u001b[38;5;21;01msklearn\u001b[39;00m\u001b[38;5;21;01m.\u001b[39;00m\u001b[38;5;21;01mmodel_selection\u001b[39;00m\u001b[38;5;250m \u001b[39m\u001b[38;5;28;01mimport\u001b[39;00m train_test_split\n",
      "File \u001b[0;32m/run/media/du/working/vscodeDD/coursecdp/frameworkML/frameworksformlvenv/lib/python3.10/site-packages/lightgbm/__init__.py:11\u001b[0m\n\u001b[1;32m      7\u001b[0m \u001b[38;5;28;01mfrom\u001b[39;00m\u001b[38;5;250m \u001b[39m\u001b[38;5;21;01mpathlib\u001b[39;00m\u001b[38;5;250m \u001b[39m\u001b[38;5;28;01mimport\u001b[39;00m Path\n\u001b[1;32m      9\u001b[0m \u001b[38;5;66;03m# .basic is intentionally loaded as early as possible, to dlopen() lib_lightgbm.{dll,dylib,so}\u001b[39;00m\n\u001b[1;32m     10\u001b[0m \u001b[38;5;66;03m# and its dependencies as early as possible\u001b[39;00m\n\u001b[0;32m---> 11\u001b[0m \u001b[38;5;28;01mfrom\u001b[39;00m\u001b[38;5;250m \u001b[39m\u001b[38;5;21;01m.\u001b[39;00m\u001b[38;5;21;01mbasic\u001b[39;00m\u001b[38;5;250m \u001b[39m\u001b[38;5;28;01mimport\u001b[39;00m Booster, Dataset, Sequence, register_logger\n\u001b[1;32m     12\u001b[0m \u001b[38;5;28;01mfrom\u001b[39;00m\u001b[38;5;250m \u001b[39m\u001b[38;5;21;01m.\u001b[39;00m\u001b[38;5;21;01mcallback\u001b[39;00m\u001b[38;5;250m \u001b[39m\u001b[38;5;28;01mimport\u001b[39;00m EarlyStopException, early_stopping, log_evaluation, record_evaluation, reset_parameter\n\u001b[1;32m     13\u001b[0m \u001b[38;5;28;01mfrom\u001b[39;00m\u001b[38;5;250m \u001b[39m\u001b[38;5;21;01m.\u001b[39;00m\u001b[38;5;21;01mengine\u001b[39;00m\u001b[38;5;250m \u001b[39m\u001b[38;5;28;01mimport\u001b[39;00m CVBooster, cv, train\n",
      "File \u001b[0;32m/run/media/du/working/vscodeDD/coursecdp/frameworkML/frameworksformlvenv/lib/python3.10/site-packages/lightgbm/basic.py:29\u001b[0m\n\u001b[1;32m     26\u001b[0m \u001b[38;5;28;01mimport\u001b[39;00m\u001b[38;5;250m \u001b[39m\u001b[38;5;21;01mnumpy\u001b[39;00m\u001b[38;5;250m \u001b[39m\u001b[38;5;28;01mas\u001b[39;00m\u001b[38;5;250m \u001b[39m\u001b[38;5;21;01mnp\u001b[39;00m\n\u001b[1;32m     27\u001b[0m \u001b[38;5;28;01mimport\u001b[39;00m\u001b[38;5;250m \u001b[39m\u001b[38;5;21;01mscipy\u001b[39;00m\u001b[38;5;21;01m.\u001b[39;00m\u001b[38;5;21;01msparse\u001b[39;00m\n\u001b[0;32m---> 29\u001b[0m \u001b[38;5;28;01mfrom\u001b[39;00m\u001b[38;5;250m \u001b[39m\u001b[38;5;21;01m.\u001b[39;00m\u001b[38;5;21;01mcompat\u001b[39;00m\u001b[38;5;250m \u001b[39m\u001b[38;5;28;01mimport\u001b[39;00m (\n\u001b[1;32m     30\u001b[0m     CFFI_INSTALLED,\n\u001b[1;32m     31\u001b[0m     PANDAS_INSTALLED,\n\u001b[1;32m     32\u001b[0m     PYARROW_INSTALLED,\n\u001b[1;32m     33\u001b[0m     arrow_cffi,\n\u001b[1;32m     34\u001b[0m     arrow_is_boolean,\n\u001b[1;32m     35\u001b[0m     arrow_is_floating,\n\u001b[1;32m     36\u001b[0m     arrow_is_integer,\n\u001b[1;32m     37\u001b[0m     concat,\n\u001b[1;32m     38\u001b[0m     dt_DataTable,\n\u001b[1;32m     39\u001b[0m     pa_Array,\n\u001b[1;32m     40\u001b[0m     pa_chunked_array,\n\u001b[1;32m     41\u001b[0m     pa_ChunkedArray,\n\u001b[1;32m     42\u001b[0m     pa_compute,\n\u001b[1;32m     43\u001b[0m     pa_Table,\n\u001b[1;32m     44\u001b[0m     pd_CategoricalDtype,\n\u001b[1;32m     45\u001b[0m     pd_DataFrame,\n\u001b[1;32m     46\u001b[0m     pd_Series,\n\u001b[1;32m     47\u001b[0m )\n\u001b[1;32m     49\u001b[0m \u001b[38;5;28;01mif\u001b[39;00m TYPE_CHECKING:\n\u001b[1;32m     50\u001b[0m     \u001b[38;5;28;01mfrom\u001b[39;00m\u001b[38;5;250m \u001b[39m\u001b[38;5;21;01mtyping\u001b[39;00m\u001b[38;5;250m \u001b[39m\u001b[38;5;28;01mimport\u001b[39;00m Literal\n",
      "File \u001b[0;32m/run/media/du/working/vscodeDD/coursecdp/frameworkML/frameworksformlvenv/lib/python3.10/site-packages/lightgbm/compat.py:10\u001b[0m\n\u001b[1;32m      8\u001b[0m \u001b[38;5;124;03m\"\"\"sklearn\"\"\"\u001b[39;00m\n\u001b[1;32m      9\u001b[0m \u001b[38;5;28;01mtry\u001b[39;00m:\n\u001b[0;32m---> 10\u001b[0m     \u001b[38;5;28;01mfrom\u001b[39;00m\u001b[38;5;250m \u001b[39m\u001b[38;5;21;01msklearn\u001b[39;00m\u001b[38;5;250m \u001b[39m\u001b[38;5;28;01mimport\u001b[39;00m __version__ \u001b[38;5;28;01mas\u001b[39;00m _sklearn_version\n\u001b[1;32m     11\u001b[0m     \u001b[38;5;28;01mfrom\u001b[39;00m\u001b[38;5;250m \u001b[39m\u001b[38;5;21;01msklearn\u001b[39;00m\u001b[38;5;21;01m.\u001b[39;00m\u001b[38;5;21;01mbase\u001b[39;00m\u001b[38;5;250m \u001b[39m\u001b[38;5;28;01mimport\u001b[39;00m BaseEstimator, ClassifierMixin, RegressorMixin\n\u001b[1;32m     12\u001b[0m     \u001b[38;5;28;01mfrom\u001b[39;00m\u001b[38;5;250m \u001b[39m\u001b[38;5;21;01msklearn\u001b[39;00m\u001b[38;5;21;01m.\u001b[39;00m\u001b[38;5;21;01mpreprocessing\u001b[39;00m\u001b[38;5;250m \u001b[39m\u001b[38;5;28;01mimport\u001b[39;00m LabelEncoder\n",
      "File \u001b[0;32m/run/media/du/working/vscodeDD/coursecdp/frameworkML/frameworksformlvenv/lib/python3.10/site-packages/sklearn/__init__.py:82\u001b[0m\n\u001b[1;32m     80\u001b[0m \u001b[38;5;28;01mfrom\u001b[39;00m\u001b[38;5;250m \u001b[39m\u001b[38;5;21;01m.\u001b[39;00m\u001b[38;5;250m \u001b[39m\u001b[38;5;28;01mimport\u001b[39;00m _distributor_init  \u001b[38;5;66;03m# noqa: F401\u001b[39;00m\n\u001b[1;32m     81\u001b[0m \u001b[38;5;28;01mfrom\u001b[39;00m\u001b[38;5;250m \u001b[39m\u001b[38;5;21;01m.\u001b[39;00m\u001b[38;5;250m \u001b[39m\u001b[38;5;28;01mimport\u001b[39;00m __check_build  \u001b[38;5;66;03m# noqa: F401\u001b[39;00m\n\u001b[0;32m---> 82\u001b[0m \u001b[38;5;28;01mfrom\u001b[39;00m\u001b[38;5;250m \u001b[39m\u001b[38;5;21;01m.\u001b[39;00m\u001b[38;5;21;01mbase\u001b[39;00m\u001b[38;5;250m \u001b[39m\u001b[38;5;28;01mimport\u001b[39;00m clone\n\u001b[1;32m     83\u001b[0m \u001b[38;5;28;01mfrom\u001b[39;00m\u001b[38;5;250m \u001b[39m\u001b[38;5;21;01m.\u001b[39;00m\u001b[38;5;21;01mutils\u001b[39;00m\u001b[38;5;21;01m.\u001b[39;00m\u001b[38;5;21;01m_show_versions\u001b[39;00m\u001b[38;5;250m \u001b[39m\u001b[38;5;28;01mimport\u001b[39;00m show_versions\n\u001b[1;32m     85\u001b[0m __all__ \u001b[38;5;241m=\u001b[39m [\n\u001b[1;32m     86\u001b[0m     \u001b[38;5;124m\"\u001b[39m\u001b[38;5;124mcalibration\u001b[39m\u001b[38;5;124m\"\u001b[39m,\n\u001b[1;32m     87\u001b[0m     \u001b[38;5;124m\"\u001b[39m\u001b[38;5;124mcluster\u001b[39m\u001b[38;5;124m\"\u001b[39m,\n\u001b[0;32m   (...)\u001b[0m\n\u001b[1;32m    128\u001b[0m     \u001b[38;5;124m\"\u001b[39m\u001b[38;5;124mshow_versions\u001b[39m\u001b[38;5;124m\"\u001b[39m,\n\u001b[1;32m    129\u001b[0m ]\n",
      "File \u001b[0;32m/run/media/du/working/vscodeDD/coursecdp/frameworkML/frameworksformlvenv/lib/python3.10/site-packages/sklearn/base.py:17\u001b[0m\n\u001b[1;32m     15\u001b[0m \u001b[38;5;28;01mfrom\u001b[39;00m\u001b[38;5;250m \u001b[39m\u001b[38;5;21;01m.\u001b[39;00m\u001b[38;5;250m \u001b[39m\u001b[38;5;28;01mimport\u001b[39;00m __version__\n\u001b[1;32m     16\u001b[0m \u001b[38;5;28;01mfrom\u001b[39;00m\u001b[38;5;250m \u001b[39m\u001b[38;5;21;01m.\u001b[39;00m\u001b[38;5;21;01m_config\u001b[39;00m\u001b[38;5;250m \u001b[39m\u001b[38;5;28;01mimport\u001b[39;00m get_config\n\u001b[0;32m---> 17\u001b[0m \u001b[38;5;28;01mfrom\u001b[39;00m\u001b[38;5;250m \u001b[39m\u001b[38;5;21;01m.\u001b[39;00m\u001b[38;5;21;01mutils\u001b[39;00m\u001b[38;5;250m \u001b[39m\u001b[38;5;28;01mimport\u001b[39;00m _IS_32BIT\n\u001b[1;32m     18\u001b[0m \u001b[38;5;28;01mfrom\u001b[39;00m\u001b[38;5;250m \u001b[39m\u001b[38;5;21;01m.\u001b[39;00m\u001b[38;5;21;01mutils\u001b[39;00m\u001b[38;5;21;01m.\u001b[39;00m\u001b[38;5;21;01m_tags\u001b[39;00m\u001b[38;5;250m \u001b[39m\u001b[38;5;28;01mimport\u001b[39;00m (\n\u001b[1;32m     19\u001b[0m     _DEFAULT_TAGS,\n\u001b[1;32m     20\u001b[0m )\n\u001b[1;32m     21\u001b[0m \u001b[38;5;28;01mfrom\u001b[39;00m\u001b[38;5;250m \u001b[39m\u001b[38;5;21;01m.\u001b[39;00m\u001b[38;5;21;01mutils\u001b[39;00m\u001b[38;5;21;01m.\u001b[39;00m\u001b[38;5;21;01mvalidation\u001b[39;00m\u001b[38;5;250m \u001b[39m\u001b[38;5;28;01mimport\u001b[39;00m check_X_y\n",
      "File \u001b[0;32m/run/media/du/working/vscodeDD/coursecdp/frameworkML/frameworksformlvenv/lib/python3.10/site-packages/sklearn/utils/__init__.py:24\u001b[0m\n\u001b[1;32m     21\u001b[0m \u001b[38;5;28;01mimport\u001b[39;00m\u001b[38;5;250m \u001b[39m\u001b[38;5;21;01mnumpy\u001b[39;00m\u001b[38;5;250m \u001b[39m\u001b[38;5;28;01mas\u001b[39;00m\u001b[38;5;250m \u001b[39m\u001b[38;5;21;01mnp\u001b[39;00m\n\u001b[1;32m     22\u001b[0m \u001b[38;5;28;01mfrom\u001b[39;00m\u001b[38;5;250m \u001b[39m\u001b[38;5;21;01mscipy\u001b[39;00m\u001b[38;5;21;01m.\u001b[39;00m\u001b[38;5;21;01msparse\u001b[39;00m\u001b[38;5;250m \u001b[39m\u001b[38;5;28;01mimport\u001b[39;00m issparse\n\u001b[0;32m---> 24\u001b[0m \u001b[38;5;28;01mfrom\u001b[39;00m\u001b[38;5;250m \u001b[39m\u001b[38;5;21;01m.\u001b[39;00m\u001b[38;5;21;01mmurmurhash\u001b[39;00m\u001b[38;5;250m \u001b[39m\u001b[38;5;28;01mimport\u001b[39;00m murmurhash3_32\n\u001b[1;32m     25\u001b[0m \u001b[38;5;28;01mfrom\u001b[39;00m\u001b[38;5;250m \u001b[39m\u001b[38;5;21;01m.\u001b[39;00m\u001b[38;5;21;01mclass_weight\u001b[39;00m\u001b[38;5;250m \u001b[39m\u001b[38;5;28;01mimport\u001b[39;00m compute_class_weight, compute_sample_weight\n\u001b[1;32m     26\u001b[0m \u001b[38;5;28;01mfrom\u001b[39;00m\u001b[38;5;250m \u001b[39m\u001b[38;5;21;01m.\u001b[39;00m\u001b[38;5;250m \u001b[39m\u001b[38;5;28;01mimport\u001b[39;00m _joblib\n",
      "File \u001b[0;32msklearn/utils/murmurhash.pyx:1\u001b[0m, in \u001b[0;36minit sklearn.utils.murmurhash\u001b[0;34m()\u001b[0m\n",
      "\u001b[0;31mValueError\u001b[0m: numpy.dtype size changed, may indicate binary incompatibility. Expected 96 from C header, got 88 from PyObject"
     ]
    }
   ],
   "source": [
    "# Importation des bibliothèques\n",
    "import lightgbm as lgb\n",
    "from sklearn.datasets import load_boston\n",
    "from sklearn.model_selection import train_test_split\n",
    "\n",
    "# Chargement du jeu de données Boston (régression sur prix immobiliers)\n",
    "data = load_boston()\n",
    "\n",
    "# S paration des données en ensembles d’entraînement et de test\n",
    "X_train, X_test, y_train, y_test = train_test_split(data.data, data.target, test_size=0.3)\n",
    "\n",
    "# Instanciation du modèle de régression LightGBM\n",
    "model = lgb.LGBMRegressor()\n",
    "\n",
    "# Entra nement du modèle\n",
    "model.fit(X_train, y_train)\n",
    "\n",
    "#Évaluation de la performance ( R )\n",
    "score = model.score(X_test, y_test)\n",
    "print(\"Score de régression :\", score)"
   ]
  },
  {
   "cell_type": "markdown",
   "id": "64ac3245",
   "metadata": {},
   "source": [
    "#### **Comparaison des bibliothèques classiques**"
   ]
  },
  {
   "cell_type": "markdown",
   "id": "c2e2ea12",
   "metadata": {},
   "source": [
    "| Framework      | Scikit-learn            | XGBoost       | LightGBM |\n",
    "|---------------|-------------------------|--------------|----------|\n",
    "| **Version**   | 1.3.2                    | -            | -        |\n",
    "| **Langage**   | Python                   | C++/Python/R | C++/Python/R |\n",
    "| **Modèles**   | Classiques (régression, SVM...) | Boosting d’arbres | Boosting basé histogrammes |\n",
    "| **Performance** | Moyenne                 | Très haute   | Très haute |\n",
    "| **Documentation** | Excellente            | Très bonne   | Bonne |\n"
   ]
  },
  {
   "cell_type": "markdown",
   "id": "5234df2c",
   "metadata": {},
   "source": [
    "### 3.2 Principe général du Gradient Boosting"
   ]
  },
  {
   "cell_type": "markdown",
   "id": "ea53dd20",
   "metadata": {},
   "source": [
    ">Le ***Gradient Boosting*** est un algorithme d’ensemble qui combine plusieurs modèles faibles (*généralement des arbres de décision peu profonds*) de manière itérative. <br>Chaque nouveau modèle apprend à corriger les erreurs commises par la somme des modèles précédents."
   ]
  },
  {
   "cell_type": "markdown",
   "id": "a32aee30",
   "metadata": {},
   "source": [
    "<u>**Formulation mathématique**</u>\n",
    "\n",
    "Soit $F_m(x)$ le modèle au pas $m$.<br>\n",
    "À chaque étape, le modèle est mis à jour selon la règle :\n",
    "\n",
    "$$\n",
    "F_m(x) = F_{m-1}(x) + \\gamma_m h_m(x)\n",
    "$$\n",
    "\n",
    "où :\n",
    "- $h_m(x)$ est un modèle entraîné à minimiser la fonction de perte résiduelle.\n",
    "- $\\gamma_m$ est obtenu par :\n",
    "\n",
    "$$\n",
    "\\gamma_m = \\arg \\min_{\\gamma} \\sum_{i=1}^{n} L(y_i, F_{m-1}(x_i) + \\gamma h_m(x_i))\n",
    "$$\n",
    "\n",
    "Cette approche permet de corriger les erreurs des prédictions précédentes et de **renforcer l’apprentissage** à chaque itération.\n"
   ]
  },
  {
   "cell_type": "markdown",
   "id": "c00b05b6",
   "metadata": {},
   "source": [
    "### 3.3 Comparaison des implémentations de Gradient Boosting"
   ]
  },
  {
   "cell_type": "markdown",
   "id": "3307113d",
   "metadata": {},
   "source": [
    "* **Scikit-learn** : API simple, mais moins rapide pour grands volumes.\n",
    "* **XGBoost** : performance optimisée, prise en charge de la régularisation.\n",
    "* **LightGBM** : très rapide, mais nécessite un bon réglage sur petits jeux.\n",
    "* **CatBoost** : gère automatiquement les variables catégorielles sans encodage explicite."
   ]
  },
  {
   "cell_type": "markdown",
   "id": "5d7ca200",
   "metadata": {},
   "source": [
    "| Critère               | Scikit-learn       | XGBoost       | LightGBM      | CatBoost       |\n",
    "|-----------------------|-------------------|--------------|--------------|---------------|\n",
    "| **Croissance d’arbre** | Niveau-par-niveau | Niveau-par-niveau | Feuille-par-feuille | Niveau-par-niveau |\n",
    "| **Support des catégories** | Manuel           | Partiel       | Manuel       | Automatique   |\n",
    "| **Vitesse d’exécution** | Moyenne          | Rapide       | Très rapide  | Rapide        |\n",
    "| **Précision**          | Bonne            | Excellente   | Très bonne   | Excellente    |\n",
    "| **Valeurs manquantes** | Non gérées       | Gérées       | Gérées       | Gérées        |\n"
   ]
  },
  {
   "cell_type": "markdown",
   "id": "7161bcc2",
   "metadata": {},
   "source": [
    "### 3.4 Exemple final : Comparaison sur le dataset Iris"
   ]
  },
  {
   "cell_type": "markdown",
   "id": "99bd191a",
   "metadata": {},
   "source": [
    "**`Exécution multi-modèles sur le dataset Iris`**"
   ]
  },
  {
   "cell_type": "code",
   "execution_count": 5,
   "id": "12c93f3b",
   "metadata": {},
   "outputs": [
    {
     "name": "stdout",
     "output_type": "stream",
     "text": [
      "[LightGBM] [Info] Auto-choosing col-wise multi-threading, the overhead of testing was 0.002309 seconds.\n",
      "You can set `force_col_wise=true` to remove the overhead.\n",
      "[LightGBM] [Info] Total Bins 85\n",
      "[LightGBM] [Info] Number of data points in the train set: 105, number of used features: 4\n",
      "[LightGBM] [Info] Start training from score -1.016374\n",
      "[LightGBM] [Info] Start training from score -1.188224\n",
      "[LightGBM] [Info] Start training from score -1.098612\n",
      "[LightGBM] [Warning] No further splits with positive gain, best gain: -inf\n",
      "[LightGBM] [Warning] No further splits with positive gain, best gain: -inf\n",
      "[LightGBM] [Warning] No further splits with positive gain, best gain: -inf\n",
      "[LightGBM] [Warning] No further splits with positive gain, best gain: -inf\n",
      "[LightGBM] [Warning] No further splits with positive gain, best gain: -inf\n",
      "[LightGBM] [Warning] No further splits with positive gain, best gain: -inf\n",
      "[LightGBM] [Warning] No further splits with positive gain, best gain: -inf\n",
      "[LightGBM] [Warning] No further splits with positive gain, best gain: -inf\n",
      "[LightGBM] [Warning] No further splits with positive gain, best gain: -inf\n",
      "[LightGBM] [Warning] No further splits with positive gain, best gain: -inf\n",
      "[LightGBM] [Warning] No further splits with positive gain, best gain: -inf\n",
      "[LightGBM] [Warning] No further splits with positive gain, best gain: -inf\n",
      "[LightGBM] [Warning] No further splits with positive gain, best gain: -inf\n",
      "[LightGBM] [Warning] No further splits with positive gain, best gain: -inf\n",
      "[LightGBM] [Warning] No further splits with positive gain, best gain: -inf\n",
      "[LightGBM] [Warning] No further splits with positive gain, best gain: -inf\n",
      "[LightGBM] [Warning] No further splits with positive gain, best gain: -inf\n",
      "[LightGBM] [Warning] No further splits with positive gain, best gain: -inf\n",
      "[LightGBM] [Warning] No further splits with positive gain, best gain: -inf\n",
      "[LightGBM] [Warning] No further splits with positive gain, best gain: -inf\n",
      "[LightGBM] [Warning] No further splits with positive gain, best gain: -inf\n",
      "[LightGBM] [Warning] No further splits with positive gain, best gain: -inf\n",
      "[LightGBM] [Warning] No further splits with positive gain, best gain: -inf\n",
      "[LightGBM] [Warning] No further splits with positive gain, best gain: -inf\n",
      "[LightGBM] [Warning] No further splits with positive gain, best gain: -inf\n",
      "[LightGBM] [Warning] No further splits with positive gain, best gain: -inf\n",
      "[LightGBM] [Warning] No further splits with positive gain, best gain: -inf\n",
      "[LightGBM] [Warning] No further splits with positive gain, best gain: -inf\n",
      "[LightGBM] [Warning] No further splits with positive gain, best gain: -inf\n",
      "[LightGBM] [Warning] No further splits with positive gain, best gain: -inf\n",
      "[LightGBM] [Warning] No further splits with positive gain, best gain: -inf\n",
      "[LightGBM] [Warning] No further splits with positive gain, best gain: -inf\n",
      "[LightGBM] [Warning] No further splits with positive gain, best gain: -inf\n",
      "[LightGBM] [Warning] No further splits with positive gain, best gain: -inf\n",
      "[LightGBM] [Warning] No further splits with positive gain, best gain: -inf\n",
      "[LightGBM] [Warning] No further splits with positive gain, best gain: -inf\n",
      "[LightGBM] [Warning] No further splits with positive gain, best gain: -inf\n",
      "[LightGBM] [Warning] No further splits with positive gain, best gain: -inf\n",
      "[LightGBM] [Warning] No further splits with positive gain, best gain: -inf\n",
      "[LightGBM] [Warning] No further splits with positive gain, best gain: -inf\n",
      "[LightGBM] [Warning] No further splits with positive gain, best gain: -inf\n",
      "[LightGBM] [Warning] No further splits with positive gain, best gain: -inf\n",
      "[LightGBM] [Warning] No further splits with positive gain, best gain: -inf\n",
      "[LightGBM] [Warning] No further splits with positive gain, best gain: -inf\n",
      "[LightGBM] [Warning] No further splits with positive gain, best gain: -inf\n",
      "[LightGBM] [Warning] No further splits with positive gain, best gain: -inf\n",
      "[LightGBM] [Warning] No further splits with positive gain, best gain: -inf\n",
      "[LightGBM] [Warning] No further splits with positive gain, best gain: -inf\n",
      "[LightGBM] [Warning] No further splits with positive gain, best gain: -inf\n",
      "[LightGBM] [Warning] No further splits with positive gain, best gain: -inf\n",
      "[LightGBM] [Warning] No further splits with positive gain, best gain: -inf\n",
      "[LightGBM] [Warning] No further splits with positive gain, best gain: -inf\n",
      "[LightGBM] [Warning] No further splits with positive gain, best gain: -inf\n",
      "[LightGBM] [Warning] No further splits with positive gain, best gain: -inf\n",
      "[LightGBM] [Warning] No further splits with positive gain, best gain: -inf\n",
      "[LightGBM] [Warning] No further splits with positive gain, best gain: -inf\n",
      "[LightGBM] [Warning] No further splits with positive gain, best gain: -inf\n",
      "[LightGBM] [Warning] No further splits with positive gain, best gain: -inf\n",
      "[LightGBM] [Warning] No further splits with positive gain, best gain: -inf\n",
      "[LightGBM] [Warning] No further splits with positive gain, best gain: -inf\n",
      "[LightGBM] [Warning] No further splits with positive gain, best gain: -inf\n",
      "[LightGBM] [Warning] No further splits with positive gain, best gain: -inf\n",
      "[LightGBM] [Warning] No further splits with positive gain, best gain: -inf\n",
      "[LightGBM] [Warning] No further splits with positive gain, best gain: -inf\n",
      "[LightGBM] [Warning] No further splits with positive gain, best gain: -inf\n",
      "[LightGBM] [Warning] No further splits with positive gain, best gain: -inf\n",
      "[LightGBM] [Warning] No further splits with positive gain, best gain: -inf\n",
      "[LightGBM] [Warning] No further splits with positive gain, best gain: -inf\n",
      "[LightGBM] [Warning] No further splits with positive gain, best gain: -inf\n",
      "[LightGBM] [Warning] No further splits with positive gain, best gain: -inf\n",
      "[LightGBM] [Warning] No further splits with positive gain, best gain: -inf\n",
      "[LightGBM] [Warning] No further splits with positive gain, best gain: -inf\n",
      "[LightGBM] [Warning] No further splits with positive gain, best gain: -inf\n",
      "[LightGBM] [Warning] No further splits with positive gain, best gain: -inf\n",
      "[LightGBM] [Warning] No further splits with positive gain, best gain: -inf\n",
      "[LightGBM] [Warning] No further splits with positive gain, best gain: -inf\n",
      "[LightGBM] [Warning] No further splits with positive gain, best gain: -inf\n",
      "[LightGBM] [Warning] No further splits with positive gain, best gain: -inf\n",
      "[LightGBM] [Warning] No further splits with positive gain, best gain: -inf\n",
      "[LightGBM] [Warning] No further splits with positive gain, best gain: -inf\n",
      "[LightGBM] [Warning] No further splits with positive gain, best gain: -inf\n",
      "[LightGBM] [Warning] No further splits with positive gain, best gain: -inf\n",
      "[LightGBM] [Warning] No further splits with positive gain, best gain: -inf\n",
      "[LightGBM] [Warning] No further splits with positive gain, best gain: -inf\n",
      "[LightGBM] [Warning] No further splits with positive gain, best gain: -inf\n",
      "[LightGBM] [Warning] No further splits with positive gain, best gain: -inf\n",
      "[LightGBM] [Warning] No further splits with positive gain, best gain: -inf\n",
      "[LightGBM] [Warning] No further splits with positive gain, best gain: -inf\n",
      "[LightGBM] [Warning] No further splits with positive gain, best gain: -inf\n",
      "[LightGBM] [Warning] No further splits with positive gain, best gain: -inf\n",
      "[LightGBM] [Warning] No further splits with positive gain, best gain: -inf\n",
      "[LightGBM] [Warning] No further splits with positive gain, best gain: -inf\n",
      "[LightGBM] [Warning] No further splits with positive gain, best gain: -inf\n",
      "[LightGBM] [Warning] No further splits with positive gain, best gain: -inf\n",
      "[LightGBM] [Warning] No further splits with positive gain, best gain: -inf\n",
      "[LightGBM] [Warning] No further splits with positive gain, best gain: -inf\n",
      "[LightGBM] [Warning] No further splits with positive gain, best gain: -inf\n",
      "[LightGBM] [Warning] No further splits with positive gain, best gain: -inf\n",
      "[LightGBM] [Warning] No further splits with positive gain, best gain: -inf\n",
      "[LightGBM] [Warning] No further splits with positive gain, best gain: -inf\n",
      "[LightGBM] [Warning] No further splits with positive gain, best gain: -inf\n",
      "[LightGBM] [Warning] No further splits with positive gain, best gain: -inf\n",
      "[LightGBM] [Warning] No further splits with positive gain, best gain: -inf\n",
      "[LightGBM] [Warning] No further splits with positive gain, best gain: -inf\n",
      "[LightGBM] [Warning] No further splits with positive gain, best gain: -inf\n",
      "[LightGBM] [Warning] No further splits with positive gain, best gain: -inf\n",
      "[LightGBM] [Warning] No further splits with positive gain, best gain: -inf\n",
      "[LightGBM] [Warning] No further splits with positive gain, best gain: -inf\n",
      "[LightGBM] [Warning] No further splits with positive gain, best gain: -inf\n",
      "[LightGBM] [Warning] No further splits with positive gain, best gain: -inf\n",
      "[LightGBM] [Warning] No further splits with positive gain, best gain: -inf\n",
      "[LightGBM] [Warning] No further splits with positive gain, best gain: -inf\n",
      "[LightGBM] [Warning] No further splits with positive gain, best gain: -inf\n",
      "[LightGBM] [Warning] No further splits with positive gain, best gain: -inf\n",
      "[LightGBM] [Warning] No further splits with positive gain, best gain: -inf\n",
      "[LightGBM] [Warning] No further splits with positive gain, best gain: -inf\n",
      "[LightGBM] [Warning] No further splits with positive gain, best gain: -inf\n",
      "[LightGBM] [Warning] No further splits with positive gain, best gain: -inf\n",
      "[LightGBM] [Warning] No further splits with positive gain, best gain: -inf\n",
      "[LightGBM] [Warning] No further splits with positive gain, best gain: -inf\n",
      "[LightGBM] [Warning] No further splits with positive gain, best gain: -inf\n",
      "[LightGBM] [Warning] No further splits with positive gain, best gain: -inf\n",
      "[LightGBM] [Warning] No further splits with positive gain, best gain: -inf\n",
      "[LightGBM] [Warning] No further splits with positive gain, best gain: -inf\n",
      "[LightGBM] [Warning] No further splits with positive gain, best gain: -inf\n",
      "[LightGBM] [Warning] No further splits with positive gain, best gain: -inf\n",
      "[LightGBM] [Warning] No further splits with positive gain, best gain: -inf\n",
      "[LightGBM] [Warning] No further splits with positive gain, best gain: -inf\n",
      "[LightGBM] [Warning] No further splits with positive gain, best gain: -inf\n",
      "[LightGBM] [Warning] No further splits with positive gain, best gain: -inf\n",
      "[LightGBM] [Warning] No further splits with positive gain, best gain: -inf\n",
      "[LightGBM] [Warning] No further splits with positive gain, best gain: -inf\n",
      "[LightGBM] [Warning] No further splits with positive gain, best gain: -inf\n",
      "[LightGBM] [Warning] No further splits with positive gain, best gain: -inf\n",
      "[LightGBM] [Warning] No further splits with positive gain, best gain: -inf\n",
      "[LightGBM] [Warning] No further splits with positive gain, best gain: -inf\n",
      "[LightGBM] [Warning] No further splits with positive gain, best gain: -inf\n",
      "[LightGBM] [Warning] No further splits with positive gain, best gain: -inf\n",
      "[LightGBM] [Warning] No further splits with positive gain, best gain: -inf\n",
      "[LightGBM] [Warning] No further splits with positive gain, best gain: -inf\n",
      "[LightGBM] [Warning] No further splits with positive gain, best gain: -inf\n",
      "[LightGBM] [Warning] No further splits with positive gain, best gain: -inf\n",
      "[LightGBM] [Warning] No further splits with positive gain, best gain: -inf\n",
      "[LightGBM] [Warning] No further splits with positive gain, best gain: -inf\n",
      "[LightGBM] [Warning] No further splits with positive gain, best gain: -inf\n",
      "[LightGBM] [Warning] No further splits with positive gain, best gain: -inf\n",
      "[LightGBM] [Warning] No further splits with positive gain, best gain: -inf\n",
      "[LightGBM] [Warning] No further splits with positive gain, best gain: -inf\n",
      "[LightGBM] [Warning] No further splits with positive gain, best gain: -inf\n",
      "[LightGBM] [Warning] No further splits with positive gain, best gain: -inf\n",
      "[LightGBM] [Warning] No further splits with positive gain, best gain: -inf\n",
      "[LightGBM] [Warning] No further splits with positive gain, best gain: -inf\n",
      "[LightGBM] [Warning] No further splits with positive gain, best gain: -inf\n",
      "[LightGBM] [Warning] No further splits with positive gain, best gain: -inf\n",
      "[LightGBM] [Warning] No further splits with positive gain, best gain: -inf\n",
      "[LightGBM] [Warning] No further splits with positive gain, best gain: -inf\n",
      "[LightGBM] [Warning] No further splits with positive gain, best gain: -inf\n",
      "[LightGBM] [Warning] No further splits with positive gain, best gain: -inf\n",
      "[LightGBM] [Warning] No further splits with positive gain, best gain: -inf\n",
      "[LightGBM] [Warning] No further splits with positive gain, best gain: -inf\n",
      "[LightGBM] [Warning] No further splits with positive gain, best gain: -inf\n",
      "[LightGBM] [Warning] No further splits with positive gain, best gain: -inf\n",
      "[LightGBM] [Warning] No further splits with positive gain, best gain: -inf\n",
      "[LightGBM] [Warning] No further splits with positive gain, best gain: -inf\n",
      "[LightGBM] [Warning] No further splits with positive gain, best gain: -inf\n",
      "[LightGBM] [Warning] No further splits with positive gain, best gain: -inf\n",
      "[LightGBM] [Warning] No further splits with positive gain, best gain: -inf\n",
      "[LightGBM] [Warning] No further splits with positive gain, best gain: -inf\n",
      "[LightGBM] [Warning] No further splits with positive gain, best gain: -inf\n",
      "[LightGBM] [Warning] No further splits with positive gain, best gain: -inf\n",
      "[LightGBM] [Warning] No further splits with positive gain, best gain: -inf\n",
      "[LightGBM] [Warning] No further splits with positive gain, best gain: -inf\n",
      "[LightGBM] [Warning] No further splits with positive gain, best gain: -inf\n",
      "[LightGBM] [Warning] No further splits with positive gain, best gain: -inf\n",
      "[LightGBM] [Warning] No further splits with positive gain, best gain: -inf\n",
      "[LightGBM] [Warning] No further splits with positive gain, best gain: -inf\n",
      "[LightGBM] [Warning] No further splits with positive gain, best gain: -inf\n",
      "[LightGBM] [Warning] No further splits with positive gain, best gain: -inf\n",
      "[LightGBM] [Warning] No further splits with positive gain, best gain: -inf\n",
      "[LightGBM] [Warning] No further splits with positive gain, best gain: -inf\n",
      "[LightGBM] [Warning] No further splits with positive gain, best gain: -inf\n",
      "[LightGBM] [Warning] No further splits with positive gain, best gain: -inf\n",
      "[LightGBM] [Warning] No further splits with positive gain, best gain: -inf\n",
      "[LightGBM] [Warning] No further splits with positive gain, best gain: -inf\n",
      "[LightGBM] [Warning] No further splits with positive gain, best gain: -inf\n",
      "[LightGBM] [Warning] No further splits with positive gain, best gain: -inf\n",
      "[LightGBM] [Warning] No further splits with positive gain, best gain: -inf\n",
      "[LightGBM] [Warning] No further splits with positive gain, best gain: -inf\n",
      "[LightGBM] [Warning] No further splits with positive gain, best gain: -inf\n",
      "[LightGBM] [Warning] No further splits with positive gain, best gain: -inf\n",
      "[LightGBM] [Warning] No further splits with positive gain, best gain: -inf\n",
      "[LightGBM] [Warning] No further splits with positive gain, best gain: -inf\n",
      "[LightGBM] [Warning] No further splits with positive gain, best gain: -inf\n",
      "[LightGBM] [Warning] No further splits with positive gain, best gain: -inf\n",
      "[LightGBM] [Warning] No further splits with positive gain, best gain: -inf\n",
      "[LightGBM] [Warning] No further splits with positive gain, best gain: -inf\n",
      "[LightGBM] [Warning] No further splits with positive gain, best gain: -inf\n",
      "[LightGBM] [Warning] No further splits with positive gain, best gain: -inf\n",
      "[LightGBM] [Warning] No further splits with positive gain, best gain: -inf\n",
      "[LightGBM] [Warning] No further splits with positive gain, best gain: -inf\n",
      "[LightGBM] [Warning] No further splits with positive gain, best gain: -inf\n",
      "[LightGBM] [Warning] No further splits with positive gain, best gain: -inf\n",
      "[LightGBM] [Warning] No further splits with positive gain, best gain: -inf\n",
      "[LightGBM] [Warning] No further splits with positive gain, best gain: -inf\n",
      "[LightGBM] [Warning] No further splits with positive gain, best gain: -inf\n",
      "[LightGBM] [Warning] No further splits with positive gain, best gain: -inf\n",
      "[LightGBM] [Warning] No further splits with positive gain, best gain: -inf\n",
      "[LightGBM] [Warning] No further splits with positive gain, best gain: -inf\n",
      "[LightGBM] [Warning] No further splits with positive gain, best gain: -inf\n",
      "[LightGBM] [Warning] No further splits with positive gain, best gain: -inf\n",
      "[LightGBM] [Warning] No further splits with positive gain, best gain: -inf\n",
      "[LightGBM] [Warning] No further splits with positive gain, best gain: -inf\n",
      "[LightGBM] [Warning] No further splits with positive gain, best gain: -inf\n",
      "[LightGBM] [Warning] No further splits with positive gain, best gain: -inf\n",
      "[LightGBM] [Warning] No further splits with positive gain, best gain: -inf\n",
      "[LightGBM] [Warning] No further splits with positive gain, best gain: -inf\n",
      "[LightGBM] [Warning] No further splits with positive gain, best gain: -inf\n",
      "[LightGBM] [Warning] No further splits with positive gain, best gain: -inf\n",
      "[LightGBM] [Warning] No further splits with positive gain, best gain: -inf\n",
      "[LightGBM] [Warning] No further splits with positive gain, best gain: -inf\n",
      "[LightGBM] [Warning] No further splits with positive gain, best gain: -inf\n",
      "[LightGBM] [Warning] No further splits with positive gain, best gain: -inf\n",
      "[LightGBM] [Warning] No further splits with positive gain, best gain: -inf\n",
      "[LightGBM] [Warning] No further splits with positive gain, best gain: -inf\n",
      "[LightGBM] [Warning] No further splits with positive gain, best gain: -inf\n",
      "[LightGBM] [Warning] No further splits with positive gain, best gain: -inf\n",
      "[LightGBM] [Warning] No further splits with positive gain, best gain: -inf\n",
      "[LightGBM] [Warning] No further splits with positive gain, best gain: -inf\n",
      "[LightGBM] [Warning] No further splits with positive gain, best gain: -inf\n",
      "[LightGBM] [Warning] No further splits with positive gain, best gain: -inf\n",
      "[LightGBM] [Warning] No further splits with positive gain, best gain: -inf\n",
      "[LightGBM] [Warning] No further splits with positive gain, best gain: -inf\n",
      "[LightGBM] [Warning] No further splits with positive gain, best gain: -inf\n",
      "[LightGBM] [Warning] No further splits with positive gain, best gain: -inf\n",
      "[LightGBM] [Warning] No further splits with positive gain, best gain: -inf\n",
      "[LightGBM] [Warning] No further splits with positive gain, best gain: -inf\n",
      "[LightGBM] [Warning] No further splits with positive gain, best gain: -inf\n",
      "[LightGBM] [Warning] No further splits with positive gain, best gain: -inf\n",
      "[LightGBM] [Warning] No further splits with positive gain, best gain: -inf\n",
      "[LightGBM] [Warning] No further splits with positive gain, best gain: -inf\n",
      "[LightGBM] [Warning] No further splits with positive gain, best gain: -inf\n",
      "[LightGBM] [Warning] No further splits with positive gain, best gain: -inf\n",
      "[LightGBM] [Warning] No further splits with positive gain, best gain: -inf\n",
      "[LightGBM] [Warning] No further splits with positive gain, best gain: -inf\n",
      "[LightGBM] [Warning] No further splits with positive gain, best gain: -inf\n",
      "[LightGBM] [Warning] No further splits with positive gain, best gain: -inf\n",
      "[LightGBM] [Warning] No further splits with positive gain, best gain: -inf\n",
      "[LightGBM] [Warning] No further splits with positive gain, best gain: -inf\n",
      "[LightGBM] [Warning] No further splits with positive gain, best gain: -inf\n",
      "[LightGBM] [Warning] No further splits with positive gain, best gain: -inf\n",
      "[LightGBM] [Warning] No further splits with positive gain, best gain: -inf\n",
      "[LightGBM] [Warning] No further splits with positive gain, best gain: -inf\n",
      "[LightGBM] [Warning] No further splits with positive gain, best gain: -inf\n",
      "[LightGBM] [Warning] No further splits with positive gain, best gain: -inf\n",
      "[LightGBM] [Warning] No further splits with positive gain, best gain: -inf\n",
      "[LightGBM] [Warning] No further splits with positive gain, best gain: -inf\n",
      "[LightGBM] [Warning] No further splits with positive gain, best gain: -inf\n",
      "[LightGBM] [Warning] No further splits with positive gain, best gain: -inf\n",
      "[LightGBM] [Warning] No further splits with positive gain, best gain: -inf\n",
      "[LightGBM] [Warning] No further splits with positive gain, best gain: -inf\n",
      "[LightGBM] [Warning] No further splits with positive gain, best gain: -inf\n",
      "[LightGBM] [Warning] No further splits with positive gain, best gain: -inf\n",
      "[LightGBM] [Warning] No further splits with positive gain, best gain: -inf\n",
      "[LightGBM] [Warning] No further splits with positive gain, best gain: -inf\n",
      "[LightGBM] [Warning] No further splits with positive gain, best gain: -inf\n",
      "[LightGBM] [Warning] No further splits with positive gain, best gain: -inf\n",
      "[LightGBM] [Warning] No further splits with positive gain, best gain: -inf\n",
      "[LightGBM] [Warning] No further splits with positive gain, best gain: -inf\n",
      "[LightGBM] [Warning] No further splits with positive gain, best gain: -inf\n",
      "[LightGBM] [Warning] No further splits with positive gain, best gain: -inf\n",
      "[LightGBM] [Warning] No further splits with positive gain, best gain: -inf\n",
      "[LightGBM] [Warning] No further splits with positive gain, best gain: -inf\n",
      "[LightGBM] [Warning] No further splits with positive gain, best gain: -inf\n",
      "[LightGBM] [Warning] No further splits with positive gain, best gain: -inf\n",
      "[LightGBM] [Warning] No further splits with positive gain, best gain: -inf\n",
      "[LightGBM] [Warning] No further splits with positive gain, best gain: -inf\n",
      "[LightGBM] [Warning] No further splits with positive gain, best gain: -inf\n",
      "[LightGBM] [Warning] No further splits with positive gain, best gain: -inf\n",
      "[LightGBM] [Warning] No further splits with positive gain, best gain: -inf\n",
      "[LightGBM] [Warning] No further splits with positive gain, best gain: -inf\n",
      "[LightGBM] [Warning] No further splits with positive gain, best gain: -inf\n",
      "[LightGBM] [Warning] No further splits with positive gain, best gain: -inf\n",
      "[LightGBM] [Warning] No further splits with positive gain, best gain: -inf\n",
      "[LightGBM] [Warning] No further splits with positive gain, best gain: -inf\n",
      "[LightGBM] [Warning] No further splits with positive gain, best gain: -inf\n",
      "[LightGBM] [Warning] No further splits with positive gain, best gain: -inf\n",
      "[LightGBM] [Warning] No further splits with positive gain, best gain: -inf\n",
      "[LightGBM] [Warning] No further splits with positive gain, best gain: -inf\n",
      "[LightGBM] [Warning] No further splits with positive gain, best gain: -inf\n",
      "[LightGBM] [Warning] No further splits with positive gain, best gain: -inf\n",
      "[LightGBM] [Warning] No further splits with positive gain, best gain: -inf\n",
      "[LightGBM] [Warning] No further splits with positive gain, best gain: -inf\n",
      "[LightGBM] [Warning] No further splits with positive gain, best gain: -inf\n",
      "[LightGBM] [Warning] No further splits with positive gain, best gain: -inf\n",
      "[LightGBM] [Warning] No further splits with positive gain, best gain: -inf\n",
      "[LightGBM] [Warning] No further splits with positive gain, best gain: -inf\n",
      "[LightGBM] [Warning] No further splits with positive gain, best gain: -inf\n",
      "[LightGBM] [Warning] No further splits with positive gain, best gain: -inf\n",
      "[LightGBM] [Warning] No further splits with positive gain, best gain: -inf\n",
      "[LightGBM] [Warning] No further splits with positive gain, best gain: -inf\n"
     ]
    },
    {
     "name": "stderr",
     "output_type": "stream",
     "text": [
      "/run/media/du/working/vscodeDD/coursecdp/frameworkML/frameworksformlvenv/lib/python3.10/site-packages/sklearn/utils/validation.py:2739: UserWarning: X does not have valid feature names, but LGBMClassifier was fitted with feature names\n",
      "  warnings.warn(\n"
     ]
    },
    {
     "name": "stdout",
     "output_type": "stream",
     "text": [
      "Scikit-learn: 1.0\n",
      "XGBoost: 0.9777777777777777\n",
      "LightGBM: 0.9777777777777777\n",
      "CatBoost: 1.0\n"
     ]
    }
   ],
   "source": [
    "# Importation des outils nécessaires\n",
    "from sklearn.datasets import load_iris\n",
    "from sklearn.model_selection import train_test_split\n",
    "from sklearn.metrics import accuracy_score\n",
    "from sklearn.ensemble import GradientBoostingClassifier\n",
    "import xgboost as xgb\n",
    "import lightgbm as lgb\n",
    "import catboost as cb\n",
    "\n",
    "# Chargement des données\n",
    "X, y = load_iris(return_X_y=True)\n",
    "\n",
    "# Découpage du dataset\n",
    "X_train, X_test, y_train, y_test = train_test_split(X, y, test_size=0.3)\n",
    "\n",
    "# Scikit-learn\n",
    "clf_sk = GradientBoostingClassifier().fit(X_train, y_train)\n",
    "acc_sk = accuracy_score(y_test, clf_sk.predict(X_test))\n",
    "\n",
    "# XGBoost\n",
    "clf_xgb = xgb.XGBClassifier().fit(X_train, y_train)\n",
    "acc_xgb = accuracy_score(y_test, clf_xgb.predict(X_test))\n",
    "\n",
    "# LightGBM\n",
    "clf_lgb = lgb.LGBMClassifier().fit(X_train, y_train)\n",
    "acc_lgb = accuracy_score(y_test, clf_lgb.predict(X_test))\n",
    "\n",
    "# CatBoost\n",
    "clf_cb = cb.CatBoostClassifier(verbose=0).fit(X_train, y_train)\n",
    "acc_cat = accuracy_score(y_test, clf_cb.predict(X_test))\n",
    "\n",
    "# Affichage des résultats\n",
    "print(\"Scikit-learn:\", acc_sk)\n",
    "print(\"XGBoost:\", acc_xgb)\n",
    "print(\"LightGBM:\", acc_lgb)\n",
    "print(\"CatBoost:\", acc_cat)"
   ]
  },
  {
   "cell_type": "markdown",
   "id": "7991612c",
   "metadata": {},
   "source": [
    "## 4. Critères de choix d’un framework de Machine Learning"
   ]
  },
  {
   "cell_type": "markdown",
   "id": "b67cd1d8",
   "metadata": {},
   "source": [
    "### Critères principaux"
   ]
  },
  {
   "cell_type": "markdown",
   "id": "2f5cf082",
   "metadata": {},
   "source": [
    "\n",
    "**🚀 <u>`Performance computationnelle`</u>** <br>\n",
    "\n",
    "✅ **Capacité de traitement parallèle**  \n",
    "Exploitation du **multi-threading** et du **multi-core** pour accélérer l’entraînement.  \n",
    "👉 **LightGBM, CatBoost** sont optimisés pour CPU multi-core.\n",
    "\n",
    "✅ **Optimisation mémoire**  \n",
    "Critère clé pour **traiter de grands datasets sans saturation**.  \n",
    "👉 **XGBoost, LightGBM** utilisent des techniques avancées de gestion mémoire.\n",
    "\n",
    "✅ **Support GPU**  \n",
    "Permet d’accélérer significativement l’entraînement.  \n",
    "👉 **XGBoost, CatBoost** disposent d’un support GPU.\n",
    "\n",
    "---\n",
    "\n",
    "**📚 <u>`Facilité d’apprentissage`</u>**<br>\n",
    "\n",
    "✅ **Documentation complète et exemples**  \n",
    "Essentiel pour une adoption rapide.  \n",
    "👉 **Scikit-learn** excelle par sa documentation pédagogique.\n",
    "\n",
    "✅ **API claire et uniforme**  \n",
    "Facilite la prise en main, la maintenance et la reproductibilité.  \n",
    "👉 **Scikit-learn** offre une interface commune à tous ses algorithmes.\n",
    "\n",
    "✅ **Communauté active**  \n",
    "Accès facile aux tutoriels, forums et mises à jour fréquentes.\n",
    "\n",
    "---\n",
    "\n",
    "**🔗 <u>`Interopérabilité`</u>**<br>\n",
    "\n",
    "✅ **Compatibilité avec les pipelines de traitement**  \n",
    "Intégration fluide avec **pandas, NumPy, et les outils de workflow**.  \n",
    "👉 **Scikit-learn** propose `sklearn.pipeline` pour gérer les étapes du ML.\n",
    "\n",
    "✅ **Interopérabilité entre frameworks**  \n",
    "Possibilité d’exporter les modèles vers des **formats standards (ONNX)**.\n",
    "\n",
    "✅ **Déploiement et portabilité**  \n",
    "Export possible vers divers environnements de production.  \n",
    "👉 **PMML pour certains modèles de boosting**.\n",
    "\n",
    "---\n",
    "\n",
    "**🎯 <u>`Objectifs du projet`</u>**<br>\n",
    "\n",
    "✅ **Prototypage rapide et interprétabilité**  \n",
    "👉 **Scikit-learn** est idéal pour tester rapidement des algorithmes classiques.\n",
    "\n",
    "✅ **Modèles performants sur données tabulaires**  \n",
    "👉 **XGBoost, LightGBM et CatBoost** dominent souvent les compétitions ML.\n",
    "\n",
    "✅ **Robustesse et gestion des données catégoriques**  \n",
    "👉 **CatBoost** gère les variables catégoriques nativement, sans pré-traitement.\n"
   ]
  },
  {
   "cell_type": "markdown",
   "id": "f7df17f9",
   "metadata": {},
   "source": [
    "### Cas pratiques illustratifs"
   ]
  },
  {
   "cell_type": "markdown",
   "id": "f00d0d92",
   "metadata": {},
   "source": [
    "1. **`Développeur souhaitant un prototypage rapide sur données tabulaires`** :<br> *La simplicité d’utilisation et la richesse des algorithmes de scikit-learn en font un choix privilégié. L’absence de GPU n’est pas un frein pour des datasets de taille modérée.*\n",
    "\n",
    "2. **`Scientifique des données participant à une compétition Kaggle`** : <br>*L’utilisation de frameworks comme XGBoost, LightGBM ou CatBoost est préconisée pour maximiser la performance, grâce à leur capacité à gérer de grands volumes et des données hétérogènes.*\n",
    "\n",
    "3. **`Projet industriel nécessitant un modèle rapide et efficace`** : <br>*LightGBM, avec sa faible consommation mémoire et son entraînement rapide, est souvent privilégié, notamment dans des environnements contraints en ressources.*\n",
    "\n",
    "4. **`Projet avec données fortement catégoriques et peu de temps pour le prétraitement`** :<br> *CatBoost offre un avantage certain grâce à sa gestion native des variables catégoriques et sa robustesse aux valeurs manquantes.*"
   ]
  },
  {
   "cell_type": "markdown",
   "id": "75cb63c0",
   "metadata": {},
   "source": [
    "### Tableau comparatif des frameworks de Machine Learning classiques"
   ]
  },
  {
   "cell_type": "markdown",
   "id": "dd547139",
   "metadata": {},
   "source": [
    "| Critère                     | Scikit-learn  | XGBoost               | LightGBM               | CatBoost               |\n",
    "|-----------------------------|--------------|----------------------|----------------------|----------------------|\n",
    "| **Performance**             | Modérée      | Excellente (CPU, GPU, mono/multi-thread) | Excellente (CPU multi-core, GPU) | Très bonne (CPU, GPU) |\n",
    "| **Facilité d’apprentissage** | Excellente (API simple) | Bonne (API détaillée) | Bonne (API similaire à XGBoost) | Bonne (API intuitive) |\n",
    "| **Gestion des données catégoriques** | Limitée | Moyenne (pré-traitement nécessaire) | Moyenne (encodage requis) | Excellente (native, sans encodage) |\n",
    "| **Optimisation mémoire**    | Moyenne      | Bonne                 | Excellente             | Bonne                 |\n",
    "| **Support GPU**             | Non         | Oui                   | Oui                   | Oui                   |\n",
    "| **Interopérabilité**        | Très bonne (pipelines Python) | Bonne (export JSON, ONNX) | Bonne (export ONNX) | Bonne (export ONNX) |\n",
    "| **Cas d’usage idéal**       | Prototypage, éducation, ML classique | Compétitions, production rapide et efficace | Production performante | Données catégoriques, production robuste |\n"
   ]
  },
  {
   "cell_type": "markdown",
   "id": "b69ef15e",
   "metadata": {},
   "source": [
    "# <u>MODULE 2</u> : MACHINE LEARNING CLASSIQUE AVEC SCIKIT-LEARN"
   ]
  },
  {
   "cell_type": "markdown",
   "id": "8c8eaf14",
   "metadata": {},
   "source": [
    "## 1. Introduction"
   ]
  },
  {
   "cell_type": "markdown",
   "id": "91b7f7f2",
   "metadata": {},
   "source": [
    "## 2. Construction de pipelines : prétraitement, feature engineering, entraînement, évaluation"
   ]
  },
  {
   "cell_type": "markdown",
   "id": "d9e15405",
   "metadata": {},
   "source": [
    "*La construction de **pipelines** représente une bonne pratique centrale dans la conception d’un système de machine learning ***robuste, reproductible et modulaire***.*\n",
    "\n",
    "*En automatisant l’enchaînement des différentes étapes du flux de données* —*du prétraitement à l’évaluation*— *les pipelines **réduisent les risques d’erreurs**, **facilitent l’expérimentation** et permettent **l’intégration transparente** avec des outils comme *GridSearchCV* pour la recherche d’hyperparamètres.*"
   ]
  },
  {
   "cell_type": "markdown",
   "id": "9ac2e615",
   "metadata": {},
   "source": [
    "### 2.1 Structure générale d’un pipeline avec Scikit-learn"
   ]
  },
  {
   "cell_type": "markdown",
   "id": "d7221afb",
   "metadata": {},
   "source": [
    "### 2.2 Étapes fondamentales d’un pipeline classique"
   ]
  },
  {
   "cell_type": "markdown",
   "id": "aa2b131f",
   "metadata": {},
   "source": [
    "### 2.3 Pipeline plus avancé avec encodage et gestion des valeurs manquantes"
   ]
  },
  {
   "cell_type": "markdown",
   "id": "b2813237",
   "metadata": {},
   "source": [
    "### 2.4 Évaluation du pipeline : métriques de performance"
   ]
  },
  {
   "cell_type": "markdown",
   "id": "829bbe4a",
   "metadata": {},
   "source": [
    "## 3. Validation croisée et recherche d’hyperparamètres (GridSearchCV, RandomizedSearchCV)"
   ]
  },
  {
   "cell_type": "markdown",
   "id": "cc27a5b4",
   "metadata": {},
   "source": [
    "### 3.1 Validation croisée classique avec cross_val_score"
   ]
  },
  {
   "cell_type": "markdown",
   "id": "f4bdb571",
   "metadata": {},
   "source": [
    "#### **`Random Forest`**"
   ]
  },
  {
   "cell_type": "markdown",
   "id": "2dfd82ea",
   "metadata": {},
   "source": [
    "### 3.2 Recherche d’hyperparamètres par validation croisée"
   ]
  },
  {
   "cell_type": "markdown",
   "id": "f8e3b918",
   "metadata": {},
   "source": [
    "#### **`GridSearchCV — Recherche exhaustive sur grille`**"
   ]
  },
  {
   "cell_type": "markdown",
   "id": "90fae324",
   "metadata": {},
   "source": [
    "#### **`RandomizedSearchCV — Recherche aléatoire`**"
   ]
  },
  {
   "cell_type": "markdown",
   "id": "6baf577f",
   "metadata": {},
   "source": [
    "### 3.3 Comparaison des deux méthodes"
   ]
  },
  {
   "cell_type": "markdown",
   "id": "2054e2ed",
   "metadata": {},
   "source": [
    "## 4. Modèles fondamentaux : régression linéaire et logistique, SVM, arbres de décision, k-means, PCA"
   ]
  },
  {
   "cell_type": "markdown",
   "id": "0d2ce6fe",
   "metadata": {},
   "source": [
    "### 4.1 Régression linéaire"
   ]
  },
  {
   "cell_type": "markdown",
   "id": "a9978787",
   "metadata": {},
   "source": [
    "### 4.2 Régression logistique"
   ]
  },
  {
   "cell_type": "markdown",
   "id": "7f310cf7",
   "metadata": {},
   "source": [
    "### 4.3 Machines à vecteurs de support (SVM)"
   ]
  },
  {
   "cell_type": "markdown",
   "id": "753d7b1f",
   "metadata": {},
   "source": [
    "### 4.4 Arbres de décision"
   ]
  },
  {
   "cell_type": "markdown",
   "id": "214c7204",
   "metadata": {},
   "source": [
    "### 4.5 k-means (clustering)"
   ]
  },
  {
   "cell_type": "markdown",
   "id": "e334d73a",
   "metadata": {},
   "source": [
    "### 4.6 ACP (Analyse en Composantes Principales)"
   ]
  }
 ],
 "metadata": {
  "kernelspec": {
   "display_name": "FW_ML",
   "language": "python",
   "name": "python3"
  },
  "language_info": {
   "codemirror_mode": {
    "name": "ipython",
    "version": 3
   },
   "file_extension": ".py",
   "mimetype": "text/x-python",
   "name": "python",
   "nbconvert_exporter": "python",
   "pygments_lexer": "ipython3",
   "version": "3.10.17"
  }
 },
 "nbformat": 4,
 "nbformat_minor": 5
}
